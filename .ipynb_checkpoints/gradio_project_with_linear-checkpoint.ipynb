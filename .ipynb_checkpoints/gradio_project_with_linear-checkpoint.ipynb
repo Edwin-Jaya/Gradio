{
 "cells": [
  {
   "cell_type": "markdown",
   "id": "95ef62d6",
   "metadata": {},
   "source": [
    "# TUGAS PEMROGRAMAN DATA KELOMPOK GRADIO KELAS IF4\n",
    "\n",
    "### Anggota Kelompok: \n",
    "<table>\n",
    "    <tr>\n",
    "        <th>Nama<th>NIM<th>Status</th>\n",
    "    <tr>\n",
    "        <td>Edwin Liona Jaya<td>10121154<td>Kontribusi</td>\n",
    "    <tr>\n",
    "        <td>Hanif Ahmad Syauqi<td>10121161<td>Kontribusi</td>\n",
    "    <tr>\n",
    "        <td>Eri Sukmawan<td>10121139<td>Kontribusi</td>\n",
    "    <tr>\n",
    "        <td>Raihan Ramadhan<td>10121141<td>Kontribusi</td>        \n",
    "    <tr>\n",
    "        <td>Alfatihnaman Badharija Putra Madvi<td>10121135<td>Kontribusi</td>        \n",
    "</table>\n",
    "<div class=\"alert alert-info\">Silahkan klik salah satu link pada daftar isi berikut untuk langsung menuju ke bagian yang diinginkan.</div>"
   ]
  },
  {
   "cell_type": "code",
   "execution_count": 1,
   "id": "3733018f",
   "metadata": {},
   "outputs": [
    {
     "data": {
      "text/html": [
       "<style>table {align:center;margin-left: auto;margin-right: auto;}</style>"
      ],
      "text/plain": [
       "<IPython.core.display.HTML object>"
      ]
     },
     "execution_count": 1,
     "metadata": {},
     "output_type": "execute_result"
    }
   ],
   "source": [
    "from IPython.core.display import HTML\n",
    "table_css = 'table {align:center;margin-left: auto;margin-right: auto;}'\n",
    "HTML('<style>{}</style>'.format(table_css))"
   ]
  },
  {
   "cell_type": "markdown",
   "id": "880b8073",
   "metadata": {},
   "source": [
    "# Tema\n",
    "Pemansan Global, Perubahan Iklim\n",
    "# Foto\n",
    "# Latar Belakang\n",
    "Pemanasan global merupakan sebuah fenomena dimana suhu di permukaan bumi terus meningkat. \n",
    "Pemanasan global telah terjadi sejak masa revolusi Industri, dimana suhu tahunan global mulai meningkat sebesar 1°C pertahunnya. Diantara tahun 1880 hingga 1980, sekitar rata-rata 0.07°Celcius meningkat setiap 1 dekade. Sejak tahun 1981, kenaikan suhu tersebut meningkat hingga dua kali lipat. Alhasil selama 40 tahun terakhir, suhu global mengalami kenaikan sebesar 0.18°Celcius per dekade.\n",
    "<br>\n",
    "Hal ini mengakibatkan suhu di bumi memanas. Bahkan sembilan dari sepuluh tahun terpanas sejak tahun 1880, telah terjadi sejak tahun 2005. Dan 5 tahun terpanas terjadi sejak tahun 2015. Para ilmuwan memperkirakan bahwa jika kita tidak membatasi kenaikan suhu paling besar yaitu 1.5°Celcius per dekade  hingga 2040, maka kita akan mengalami kekeringan, kebakaran hutan, banjir, dan bencana alam lainnya yang terjadi dikarenakan perubahan iklim dan pemanasan global.\n",
    "<br>\n",
    "Pemanasan global disebabkan oleh efek rumah kaca, sebuah efek dimana emisi seperti karbon dioksida, metana, dinitro oksida, fluorin dan sebagainya menahan cahaya panas matahari yang masuk ke dalam bumi. Sebenarnya hal ini merupakan sesuatu yang bagus, karena tanpa adanya gas rumah kaca, seperti karbondioksida (CO2), metana (CH4), atau dinitro oksida (N2O), suhu permukaan bumi akan berkisar -33 derajat Celcius. Tetapi jika gas-gas tersebut menyelimuti bumi secara berlebihan, maka akan membuat suhu bumi meningkat. Gas-gas tersebut memiliki sifat sulit untuk menghilang, terutama karbon dioksida.  Sebuah pernyataan di dalam laporan IPCC Fourth Assessment Report, Working Group I (AR4, WG-I) Executive Summary of Chapter 7 mengatakan,\n",
    "<blockquote>\"About 50% of a CO2 increase will be removed from the atmosphere within 30 years, and a further 30% will be removed within a few centuries. The remaining 20% may stay in the atmosphere for many thousands of years. From U.S Greenhouse Gas Inventory Reports: Atmospheric lifetime: 50-200 years.\"</blockquote>\n",
    "Dimana hal tersebut berarti sekitar 20% karbondioksida akan mungkin tetap ada hingga ratusan tahun kedepan.\n",
    "Gas rumah kaca dapat datang dari banyak hal, seperti penggunaan energi, dan pertambangan. Tetapi gas rumah kaca lebih banyak berasal dari pembakaran bahan bakar fossil yang digunakan untuk pembuatan listrik, heater(pemanas), dan transportasi. Seperti dilansir oleh United States Environmental Protection Agency,\n",
    "\n",
    "<blockquote>A typical passenger vehicle emits about 4.6 metric tons of carbon dioxide per year. This assumes the average gasoline vehicle on the road today has a fuel economy of about 22.0 miles per gallon and drives around 11,500 miles per year.</blockquote>\n",
    "\n",
    "Di Amerika, sekitar 4,6 metric tons atau 50,7063 tons karbon dioksida dihasilkan oleh kendaraan pribadi setiap tahunnya. Bagaimana di Indonesia? Negara dengan peringkat ketiga paling banyak penggunaan motor di dunia.\n",
    "<br>\n",
    "<br>\n",
    "<center>\n",
    "    <h4>PERINGKAT NEGARA DENGAN PENGGUNAAN MOTOR TERBANYAK DI DUNIA</h4>\n",
    "</center>\n",
    "<table class=\"table\">\n",
    "    <tr>\n",
    "        <th>Rank<th>Country<th>Households That Own a Motorbike (%)</th>\n",
    "    <tr>\n",
    "        <td>1<td>Thailand<td>87</td>\n",
    "    <tr>\n",
    "        <td>2<td>Vietnam<td>86</td>\n",
    "    <tr>\n",
    "        <td>3<td>Indonesia<td>85</td>\n",
    "    <tr>\n",
    "        <td>4<td>Malaysia<td>83</td>\n",
    "</table>\n",
    "Source: <a href=\"https://www.worldatlas.com/articles/countries-that-ride-motorbikes.html\">World Atlas</a>\n",
    "<br>\n",
    "<br>\n",
    "Pada tahun 2017, Global Carbon Project (GCP) mengestimasi emisi karbon dioksida di Indonesia sebanyak 487 juta ton (MtCo2), meningkat 4,7 persen dari tahun sebelumnya. Pada tahun yang sama, Indonesia menyumbang 1,34 % dari total emisi Co2 di dunia sebanyak 36.153 juta ton (MtCo2). Selain itu juga seperti dilansir oleh <a href=\"https://www.cnbcindonesia.com/opini/20211022102830-14-285742/begini-dahsyatnya-dampak-pemanasan-global\">CNBC Indonesia</a>, \n",
    "<blockquote>\"Selain itu, berdasarkan data 2017, Indonesia adalah penyumbang gas rumah kaca nomor 5 terbesar di dunia dan merupakan kontributor terbesar untuk emisi yang disebabkan penebangan hutan dan degradasi hutan.\"</blockquote>\n",
    "\n",
    "Jika hal ini terus terjadi, maka dampak pemanasan global hanya tinggal menghitung waktu. Tidak hanya dampak yang ringan, bahkan dampak besar seperti tenggelamnya pulau-pulau dikarenakan es kutub yang mencair pun tidak dapat dihindari. Contohnya prediksi tenggelamnya kota Jakarta pada tahun 2050.\n",
    "<img src=\"https://static01.nyt.com/images/2017/12/17/climate/00JAKARTA-slide-I7D5/00JAKARTA-slide-I7D5-superJumbo.jpg\"/>\n",
    "Jakarta, <a href=\"https://www.nytimes.com/interactive/2017/12/21/world/asia/jakarta-sinking-climate.html\">The New York Times</a>\n",
    "<blockquote>North Jakarta has fallen 2.5 metres in ten years and is still sinking at a rate of up to 25 centimetres annually in some areas, and over twice the global average for coastal megacities. Jakarta is sliding at a rate of 1-15cm each year, according to media reports, and nearly half of the state is currently under sea level.\n",
    "Not only the north, but the remainder of Jakarta is also sinking, although at a moderate pace. According to the report, the land in West Jakarta is dropping by as much as 15cm every year, 10cm in the east, 2 cm in Central Jakarta, and only 1cm in South Jakarta.<br>\n",
    "<a href=\"https://www.indiatimes.com/explainers/news/why-indonesias-jakarta-the-fastest-sinking-city-in-the-world-566454.html\">- India Times </a>\n",
    "</blockquote>\n",
    "\n",
    "Timbulnya banyak bencana seperti kebakaran hutan yang terjadi di Riau, lalu banjir di berbagai daerah merupakan salah satu contoh dampak \"ringan\" pemanasan global. Oleh karena itu melalui proyek ini kami akan melihat bagaimana perkembangan iklim di Indonesia serta mencari tahu dan melihat salah satu faktor yang mendorong semakin cepatnya perubahan iklim dan pemanasan global sehingga kita dapat menanggulanginya.\n",
    "# Problem Statement\n",
    "Faktor yang mendorong perubahan iklim dan pemanasan global di Indonesia.\n",
    "# Tujuan\n",
    "Mengetahui bagaimana perkembangan iklim di Indonesia serta mencari tahu salah satu faktor yang mendorong perubahan iklim dan pemanasan global sehingga dapat menanggulanginya.\n",
    "# Pertanyaan\n",
    "1. Bagaimana perubahan iklim di Indonesia? Apa faktor terbesar yang mendorong semakin cepatnya perubahan iklim dan pemanasan global di Indonesia dan bagaimana cara kita mengatasinya? \n",
    "2. Misalkan jika tidak ada perubahan yang dilakukan, apa yang akan terjadi pada air laut sekitar beberapa tahun kedepan? "
   ]
  },
  {
   "cell_type": "code",
   "execution_count": 2,
   "id": "9e69bad3",
   "metadata": {
    "ExecuteTime": {
     "end_time": "2023-01-30T01:30:03.909223Z",
     "start_time": "2023-01-30T01:30:03.897223Z"
    }
   },
   "outputs": [],
   "source": [
    "import pandas\n",
    "import numpy\n",
    "import plotly.express as px\n",
    "from plotly.subplots import make_subplots\n",
    "import plotly.graph_objs as go\n",
    "from statistics import mean\n",
    "import geopandas as gpd\n",
    "import math\n",
    "import requests\n",
    "from bs4 import BeautifulSoup"
   ]
  },
  {
   "cell_type": "markdown",
   "id": "c760e80c",
   "metadata": {},
   "source": [
    "## Load Datasets\n",
    "### 1. Dataset Ketinggian Air Laut"
   ]
  },
  {
   "cell_type": "code",
   "execution_count": 3,
   "id": "aad9b3fa",
   "metadata": {},
   "outputs": [
    {
     "ename": "FileNotFoundError",
     "evalue": "[Errno 2] No such file or directory: './Dataset/epa-sea-level.csv'",
     "output_type": "error",
     "traceback": [
      "\u001b[1;31m---------------------------------------------------------------------------\u001b[0m",
      "\u001b[1;31mFileNotFoundError\u001b[0m                         Traceback (most recent call last)",
      "Cell \u001b[1;32mIn [3], line 1\u001b[0m\n\u001b[1;32m----> 1\u001b[0m dataset_tinggi_laut \u001b[38;5;241m=\u001b[39m \u001b[43mpandas\u001b[49m\u001b[38;5;241;43m.\u001b[39;49m\u001b[43mread_csv\u001b[49m\u001b[43m(\u001b[49m\u001b[38;5;124;43m\"\u001b[39;49m\u001b[38;5;124;43m./Dataset/epa-sea-level.csv\u001b[39;49m\u001b[38;5;124;43m\"\u001b[39;49m\u001b[43m)\u001b[49m\n",
      "File \u001b[1;32m~\\AppData\\Local\\Programs\\Python\\Python311\\Lib\\site-packages\\pandas\\util\\_decorators.py:211\u001b[0m, in \u001b[0;36mdeprecate_kwarg.<locals>._deprecate_kwarg.<locals>.wrapper\u001b[1;34m(*args, **kwargs)\u001b[0m\n\u001b[0;32m    209\u001b[0m     \u001b[38;5;28;01melse\u001b[39;00m:\n\u001b[0;32m    210\u001b[0m         kwargs[new_arg_name] \u001b[38;5;241m=\u001b[39m new_arg_value\n\u001b[1;32m--> 211\u001b[0m \u001b[38;5;28;01mreturn\u001b[39;00m \u001b[43mfunc\u001b[49m\u001b[43m(\u001b[49m\u001b[38;5;241;43m*\u001b[39;49m\u001b[43margs\u001b[49m\u001b[43m,\u001b[49m\u001b[43m \u001b[49m\u001b[38;5;241;43m*\u001b[39;49m\u001b[38;5;241;43m*\u001b[39;49m\u001b[43mkwargs\u001b[49m\u001b[43m)\u001b[49m\n",
      "File \u001b[1;32m~\\AppData\\Local\\Programs\\Python\\Python311\\Lib\\site-packages\\pandas\\util\\_decorators.py:331\u001b[0m, in \u001b[0;36mdeprecate_nonkeyword_arguments.<locals>.decorate.<locals>.wrapper\u001b[1;34m(*args, **kwargs)\u001b[0m\n\u001b[0;32m    325\u001b[0m \u001b[38;5;28;01mif\u001b[39;00m \u001b[38;5;28mlen\u001b[39m(args) \u001b[38;5;241m>\u001b[39m num_allow_args:\n\u001b[0;32m    326\u001b[0m     warnings\u001b[38;5;241m.\u001b[39mwarn(\n\u001b[0;32m    327\u001b[0m         msg\u001b[38;5;241m.\u001b[39mformat(arguments\u001b[38;5;241m=\u001b[39m_format_argument_list(allow_args)),\n\u001b[0;32m    328\u001b[0m         \u001b[38;5;167;01mFutureWarning\u001b[39;00m,\n\u001b[0;32m    329\u001b[0m         stacklevel\u001b[38;5;241m=\u001b[39mfind_stack_level(),\n\u001b[0;32m    330\u001b[0m     )\n\u001b[1;32m--> 331\u001b[0m \u001b[38;5;28;01mreturn\u001b[39;00m \u001b[43mfunc\u001b[49m\u001b[43m(\u001b[49m\u001b[38;5;241;43m*\u001b[39;49m\u001b[43margs\u001b[49m\u001b[43m,\u001b[49m\u001b[43m \u001b[49m\u001b[38;5;241;43m*\u001b[39;49m\u001b[38;5;241;43m*\u001b[39;49m\u001b[43mkwargs\u001b[49m\u001b[43m)\u001b[49m\n",
      "File \u001b[1;32m~\\AppData\\Local\\Programs\\Python\\Python311\\Lib\\site-packages\\pandas\\io\\parsers\\readers.py:950\u001b[0m, in \u001b[0;36mread_csv\u001b[1;34m(filepath_or_buffer, sep, delimiter, header, names, index_col, usecols, squeeze, prefix, mangle_dupe_cols, dtype, engine, converters, true_values, false_values, skipinitialspace, skiprows, skipfooter, nrows, na_values, keep_default_na, na_filter, verbose, skip_blank_lines, parse_dates, infer_datetime_format, keep_date_col, date_parser, dayfirst, cache_dates, iterator, chunksize, compression, thousands, decimal, lineterminator, quotechar, quoting, doublequote, escapechar, comment, encoding, encoding_errors, dialect, error_bad_lines, warn_bad_lines, on_bad_lines, delim_whitespace, low_memory, memory_map, float_precision, storage_options)\u001b[0m\n\u001b[0;32m    935\u001b[0m kwds_defaults \u001b[38;5;241m=\u001b[39m _refine_defaults_read(\n\u001b[0;32m    936\u001b[0m     dialect,\n\u001b[0;32m    937\u001b[0m     delimiter,\n\u001b[1;32m   (...)\u001b[0m\n\u001b[0;32m    946\u001b[0m     defaults\u001b[38;5;241m=\u001b[39m{\u001b[38;5;124m\"\u001b[39m\u001b[38;5;124mdelimiter\u001b[39m\u001b[38;5;124m\"\u001b[39m: \u001b[38;5;124m\"\u001b[39m\u001b[38;5;124m,\u001b[39m\u001b[38;5;124m\"\u001b[39m},\n\u001b[0;32m    947\u001b[0m )\n\u001b[0;32m    948\u001b[0m kwds\u001b[38;5;241m.\u001b[39mupdate(kwds_defaults)\n\u001b[1;32m--> 950\u001b[0m \u001b[38;5;28;01mreturn\u001b[39;00m \u001b[43m_read\u001b[49m\u001b[43m(\u001b[49m\u001b[43mfilepath_or_buffer\u001b[49m\u001b[43m,\u001b[49m\u001b[43m \u001b[49m\u001b[43mkwds\u001b[49m\u001b[43m)\u001b[49m\n",
      "File \u001b[1;32m~\\AppData\\Local\\Programs\\Python\\Python311\\Lib\\site-packages\\pandas\\io\\parsers\\readers.py:605\u001b[0m, in \u001b[0;36m_read\u001b[1;34m(filepath_or_buffer, kwds)\u001b[0m\n\u001b[0;32m    602\u001b[0m _validate_names(kwds\u001b[38;5;241m.\u001b[39mget(\u001b[38;5;124m\"\u001b[39m\u001b[38;5;124mnames\u001b[39m\u001b[38;5;124m\"\u001b[39m, \u001b[38;5;28;01mNone\u001b[39;00m))\n\u001b[0;32m    604\u001b[0m \u001b[38;5;66;03m# Create the parser.\u001b[39;00m\n\u001b[1;32m--> 605\u001b[0m parser \u001b[38;5;241m=\u001b[39m \u001b[43mTextFileReader\u001b[49m\u001b[43m(\u001b[49m\u001b[43mfilepath_or_buffer\u001b[49m\u001b[43m,\u001b[49m\u001b[43m \u001b[49m\u001b[38;5;241;43m*\u001b[39;49m\u001b[38;5;241;43m*\u001b[39;49m\u001b[43mkwds\u001b[49m\u001b[43m)\u001b[49m\n\u001b[0;32m    607\u001b[0m \u001b[38;5;28;01mif\u001b[39;00m chunksize \u001b[38;5;129;01mor\u001b[39;00m iterator:\n\u001b[0;32m    608\u001b[0m     \u001b[38;5;28;01mreturn\u001b[39;00m parser\n",
      "File \u001b[1;32m~\\AppData\\Local\\Programs\\Python\\Python311\\Lib\\site-packages\\pandas\\io\\parsers\\readers.py:1442\u001b[0m, in \u001b[0;36mTextFileReader.__init__\u001b[1;34m(self, f, engine, **kwds)\u001b[0m\n\u001b[0;32m   1439\u001b[0m     \u001b[38;5;28mself\u001b[39m\u001b[38;5;241m.\u001b[39moptions[\u001b[38;5;124m\"\u001b[39m\u001b[38;5;124mhas_index_names\u001b[39m\u001b[38;5;124m\"\u001b[39m] \u001b[38;5;241m=\u001b[39m kwds[\u001b[38;5;124m\"\u001b[39m\u001b[38;5;124mhas_index_names\u001b[39m\u001b[38;5;124m\"\u001b[39m]\n\u001b[0;32m   1441\u001b[0m \u001b[38;5;28mself\u001b[39m\u001b[38;5;241m.\u001b[39mhandles: IOHandles \u001b[38;5;241m|\u001b[39m \u001b[38;5;28;01mNone\u001b[39;00m \u001b[38;5;241m=\u001b[39m \u001b[38;5;28;01mNone\u001b[39;00m\n\u001b[1;32m-> 1442\u001b[0m \u001b[38;5;28mself\u001b[39m\u001b[38;5;241m.\u001b[39m_engine \u001b[38;5;241m=\u001b[39m \u001b[38;5;28;43mself\u001b[39;49m\u001b[38;5;241;43m.\u001b[39;49m\u001b[43m_make_engine\u001b[49m\u001b[43m(\u001b[49m\u001b[43mf\u001b[49m\u001b[43m,\u001b[49m\u001b[43m \u001b[49m\u001b[38;5;28;43mself\u001b[39;49m\u001b[38;5;241;43m.\u001b[39;49m\u001b[43mengine\u001b[49m\u001b[43m)\u001b[49m\n",
      "File \u001b[1;32m~\\AppData\\Local\\Programs\\Python\\Python311\\Lib\\site-packages\\pandas\\io\\parsers\\readers.py:1735\u001b[0m, in \u001b[0;36mTextFileReader._make_engine\u001b[1;34m(self, f, engine)\u001b[0m\n\u001b[0;32m   1733\u001b[0m     \u001b[38;5;28;01mif\u001b[39;00m \u001b[38;5;124m\"\u001b[39m\u001b[38;5;124mb\u001b[39m\u001b[38;5;124m\"\u001b[39m \u001b[38;5;129;01mnot\u001b[39;00m \u001b[38;5;129;01min\u001b[39;00m mode:\n\u001b[0;32m   1734\u001b[0m         mode \u001b[38;5;241m+\u001b[39m\u001b[38;5;241m=\u001b[39m \u001b[38;5;124m\"\u001b[39m\u001b[38;5;124mb\u001b[39m\u001b[38;5;124m\"\u001b[39m\n\u001b[1;32m-> 1735\u001b[0m \u001b[38;5;28mself\u001b[39m\u001b[38;5;241m.\u001b[39mhandles \u001b[38;5;241m=\u001b[39m \u001b[43mget_handle\u001b[49m\u001b[43m(\u001b[49m\n\u001b[0;32m   1736\u001b[0m \u001b[43m    \u001b[49m\u001b[43mf\u001b[49m\u001b[43m,\u001b[49m\n\u001b[0;32m   1737\u001b[0m \u001b[43m    \u001b[49m\u001b[43mmode\u001b[49m\u001b[43m,\u001b[49m\n\u001b[0;32m   1738\u001b[0m \u001b[43m    \u001b[49m\u001b[43mencoding\u001b[49m\u001b[38;5;241;43m=\u001b[39;49m\u001b[38;5;28;43mself\u001b[39;49m\u001b[38;5;241;43m.\u001b[39;49m\u001b[43moptions\u001b[49m\u001b[38;5;241;43m.\u001b[39;49m\u001b[43mget\u001b[49m\u001b[43m(\u001b[49m\u001b[38;5;124;43m\"\u001b[39;49m\u001b[38;5;124;43mencoding\u001b[39;49m\u001b[38;5;124;43m\"\u001b[39;49m\u001b[43m,\u001b[49m\u001b[43m \u001b[49m\u001b[38;5;28;43;01mNone\u001b[39;49;00m\u001b[43m)\u001b[49m\u001b[43m,\u001b[49m\n\u001b[0;32m   1739\u001b[0m \u001b[43m    \u001b[49m\u001b[43mcompression\u001b[49m\u001b[38;5;241;43m=\u001b[39;49m\u001b[38;5;28;43mself\u001b[39;49m\u001b[38;5;241;43m.\u001b[39;49m\u001b[43moptions\u001b[49m\u001b[38;5;241;43m.\u001b[39;49m\u001b[43mget\u001b[49m\u001b[43m(\u001b[49m\u001b[38;5;124;43m\"\u001b[39;49m\u001b[38;5;124;43mcompression\u001b[39;49m\u001b[38;5;124;43m\"\u001b[39;49m\u001b[43m,\u001b[49m\u001b[43m \u001b[49m\u001b[38;5;28;43;01mNone\u001b[39;49;00m\u001b[43m)\u001b[49m\u001b[43m,\u001b[49m\n\u001b[0;32m   1740\u001b[0m \u001b[43m    \u001b[49m\u001b[43mmemory_map\u001b[49m\u001b[38;5;241;43m=\u001b[39;49m\u001b[38;5;28;43mself\u001b[39;49m\u001b[38;5;241;43m.\u001b[39;49m\u001b[43moptions\u001b[49m\u001b[38;5;241;43m.\u001b[39;49m\u001b[43mget\u001b[49m\u001b[43m(\u001b[49m\u001b[38;5;124;43m\"\u001b[39;49m\u001b[38;5;124;43mmemory_map\u001b[39;49m\u001b[38;5;124;43m\"\u001b[39;49m\u001b[43m,\u001b[49m\u001b[43m \u001b[49m\u001b[38;5;28;43;01mFalse\u001b[39;49;00m\u001b[43m)\u001b[49m\u001b[43m,\u001b[49m\n\u001b[0;32m   1741\u001b[0m \u001b[43m    \u001b[49m\u001b[43mis_text\u001b[49m\u001b[38;5;241;43m=\u001b[39;49m\u001b[43mis_text\u001b[49m\u001b[43m,\u001b[49m\n\u001b[0;32m   1742\u001b[0m \u001b[43m    \u001b[49m\u001b[43merrors\u001b[49m\u001b[38;5;241;43m=\u001b[39;49m\u001b[38;5;28;43mself\u001b[39;49m\u001b[38;5;241;43m.\u001b[39;49m\u001b[43moptions\u001b[49m\u001b[38;5;241;43m.\u001b[39;49m\u001b[43mget\u001b[49m\u001b[43m(\u001b[49m\u001b[38;5;124;43m\"\u001b[39;49m\u001b[38;5;124;43mencoding_errors\u001b[39;49m\u001b[38;5;124;43m\"\u001b[39;49m\u001b[43m,\u001b[49m\u001b[43m \u001b[49m\u001b[38;5;124;43m\"\u001b[39;49m\u001b[38;5;124;43mstrict\u001b[39;49m\u001b[38;5;124;43m\"\u001b[39;49m\u001b[43m)\u001b[49m\u001b[43m,\u001b[49m\n\u001b[0;32m   1743\u001b[0m \u001b[43m    \u001b[49m\u001b[43mstorage_options\u001b[49m\u001b[38;5;241;43m=\u001b[39;49m\u001b[38;5;28;43mself\u001b[39;49m\u001b[38;5;241;43m.\u001b[39;49m\u001b[43moptions\u001b[49m\u001b[38;5;241;43m.\u001b[39;49m\u001b[43mget\u001b[49m\u001b[43m(\u001b[49m\u001b[38;5;124;43m\"\u001b[39;49m\u001b[38;5;124;43mstorage_options\u001b[39;49m\u001b[38;5;124;43m\"\u001b[39;49m\u001b[43m,\u001b[49m\u001b[43m \u001b[49m\u001b[38;5;28;43;01mNone\u001b[39;49;00m\u001b[43m)\u001b[49m\u001b[43m,\u001b[49m\n\u001b[0;32m   1744\u001b[0m \u001b[43m\u001b[49m\u001b[43m)\u001b[49m\n\u001b[0;32m   1745\u001b[0m \u001b[38;5;28;01massert\u001b[39;00m \u001b[38;5;28mself\u001b[39m\u001b[38;5;241m.\u001b[39mhandles \u001b[38;5;129;01mis\u001b[39;00m \u001b[38;5;129;01mnot\u001b[39;00m \u001b[38;5;28;01mNone\u001b[39;00m\n\u001b[0;32m   1746\u001b[0m f \u001b[38;5;241m=\u001b[39m \u001b[38;5;28mself\u001b[39m\u001b[38;5;241m.\u001b[39mhandles\u001b[38;5;241m.\u001b[39mhandle\n",
      "File \u001b[1;32m~\\AppData\\Local\\Programs\\Python\\Python311\\Lib\\site-packages\\pandas\\io\\common.py:856\u001b[0m, in \u001b[0;36mget_handle\u001b[1;34m(path_or_buf, mode, encoding, compression, memory_map, is_text, errors, storage_options)\u001b[0m\n\u001b[0;32m    851\u001b[0m \u001b[38;5;28;01melif\u001b[39;00m \u001b[38;5;28misinstance\u001b[39m(handle, \u001b[38;5;28mstr\u001b[39m):\n\u001b[0;32m    852\u001b[0m     \u001b[38;5;66;03m# Check whether the filename is to be opened in binary mode.\u001b[39;00m\n\u001b[0;32m    853\u001b[0m     \u001b[38;5;66;03m# Binary mode does not support 'encoding' and 'newline'.\u001b[39;00m\n\u001b[0;32m    854\u001b[0m     \u001b[38;5;28;01mif\u001b[39;00m ioargs\u001b[38;5;241m.\u001b[39mencoding \u001b[38;5;129;01mand\u001b[39;00m \u001b[38;5;124m\"\u001b[39m\u001b[38;5;124mb\u001b[39m\u001b[38;5;124m\"\u001b[39m \u001b[38;5;129;01mnot\u001b[39;00m \u001b[38;5;129;01min\u001b[39;00m ioargs\u001b[38;5;241m.\u001b[39mmode:\n\u001b[0;32m    855\u001b[0m         \u001b[38;5;66;03m# Encoding\u001b[39;00m\n\u001b[1;32m--> 856\u001b[0m         handle \u001b[38;5;241m=\u001b[39m \u001b[38;5;28;43mopen\u001b[39;49m\u001b[43m(\u001b[49m\n\u001b[0;32m    857\u001b[0m \u001b[43m            \u001b[49m\u001b[43mhandle\u001b[49m\u001b[43m,\u001b[49m\n\u001b[0;32m    858\u001b[0m \u001b[43m            \u001b[49m\u001b[43mioargs\u001b[49m\u001b[38;5;241;43m.\u001b[39;49m\u001b[43mmode\u001b[49m\u001b[43m,\u001b[49m\n\u001b[0;32m    859\u001b[0m \u001b[43m            \u001b[49m\u001b[43mencoding\u001b[49m\u001b[38;5;241;43m=\u001b[39;49m\u001b[43mioargs\u001b[49m\u001b[38;5;241;43m.\u001b[39;49m\u001b[43mencoding\u001b[49m\u001b[43m,\u001b[49m\n\u001b[0;32m    860\u001b[0m \u001b[43m            \u001b[49m\u001b[43merrors\u001b[49m\u001b[38;5;241;43m=\u001b[39;49m\u001b[43merrors\u001b[49m\u001b[43m,\u001b[49m\n\u001b[0;32m    861\u001b[0m \u001b[43m            \u001b[49m\u001b[43mnewline\u001b[49m\u001b[38;5;241;43m=\u001b[39;49m\u001b[38;5;124;43m\"\u001b[39;49m\u001b[38;5;124;43m\"\u001b[39;49m\u001b[43m,\u001b[49m\n\u001b[0;32m    862\u001b[0m \u001b[43m        \u001b[49m\u001b[43m)\u001b[49m\n\u001b[0;32m    863\u001b[0m     \u001b[38;5;28;01melse\u001b[39;00m:\n\u001b[0;32m    864\u001b[0m         \u001b[38;5;66;03m# Binary mode\u001b[39;00m\n\u001b[0;32m    865\u001b[0m         handle \u001b[38;5;241m=\u001b[39m \u001b[38;5;28mopen\u001b[39m(handle, ioargs\u001b[38;5;241m.\u001b[39mmode)\n",
      "\u001b[1;31mFileNotFoundError\u001b[0m: [Errno 2] No such file or directory: './Dataset/epa-sea-level.csv'"
     ]
    }
   ],
   "source": [
    "dataset_tinggi_laut = pandas.read_csv(\"./Dataset/epa-sea-level.csv\")"
   ]
  },
  {
   "cell_type": "markdown",
   "id": "6312fbea",
   "metadata": {},
   "source": [
    "### 2. Dataset Climatology Rata-Rata Suhu Di Seluruh Dan Provinsi-Provinsi Di Indonesia 1991-2020 Pertahun Dan Perbulan"
   ]
  },
  {
   "cell_type": "code",
   "execution_count": null,
   "id": "67945acf",
   "metadata": {
    "ExecuteTime": {
     "end_time": "2023-01-30T01:30:06.023223Z",
     "start_time": "2023-01-30T01:30:05.808222Z"
    }
   },
   "outputs": [],
   "source": [
    "data_climatology = pandas.read_csv(\"./Dataset/tas_climatology_annual-monthly_cru_1991-2020_IDN.csv\")"
   ]
  },
  {
   "cell_type": "code",
   "execution_count": null,
   "id": "fb460e79",
   "metadata": {
    "ExecuteTime": {
     "end_time": "2023-01-30T01:30:06.135223Z",
     "start_time": "2023-01-30T01:30:06.033224Z"
    }
   },
   "outputs": [],
   "source": [
    "data_climatology.shape"
   ]
  },
  {
   "cell_type": "markdown",
   "id": "dc666fed",
   "metadata": {},
   "source": [
    "### 3. Dataset Rata-Rata Suhu Di Seluruh Indonesia Perbulan Dari Rentang Tahun 1901-2021"
   ]
  },
  {
   "cell_type": "code",
   "execution_count": null,
   "id": "493ef569",
   "metadata": {
    "ExecuteTime": {
     "end_time": "2023-01-30T01:30:06.284220Z",
     "start_time": "2023-01-30T01:30:06.147222Z"
    }
   },
   "outputs": [],
   "source": [
    "data_rata_suhu_bulan = pandas.read_csv(\"./Dataset/tas_timeseries_monthly_cru_1901-2021_IDN.csv\")"
   ]
  },
  {
   "cell_type": "code",
   "execution_count": null,
   "id": "bb9bc8ed",
   "metadata": {
    "ExecuteTime": {
     "end_time": "2023-01-30T01:30:06.468222Z",
     "start_time": "2023-01-30T01:30:06.295223Z"
    }
   },
   "outputs": [],
   "source": [
    "data_rata_suhu_bulan.shape"
   ]
  },
  {
   "cell_type": "markdown",
   "id": "7484f2af",
   "metadata": {},
   "source": [
    "### 4. Dataset Rata-Rata Suhu Di Seluruh Dan Provinsi-Provinsi Indonesia Pertahun Dalam rentang 1901-2021"
   ]
  },
  {
   "cell_type": "code",
   "execution_count": null,
   "id": "f327e33a",
   "metadata": {
    "ExecuteTime": {
     "end_time": "2023-01-30T01:30:06.607225Z",
     "start_time": "2023-01-30T01:30:06.478223Z"
    }
   },
   "outputs": [],
   "source": [
    "data_rata_suhu_tahun = pandas.read_csv(\"./Dataset/tas_timeseries_annual_cru_1901-2021_IDN.csv\")"
   ]
  },
  {
   "cell_type": "code",
   "execution_count": null,
   "id": "e7547d08",
   "metadata": {
    "ExecuteTime": {
     "end_time": "2023-01-30T01:30:06.787222Z",
     "start_time": "2023-01-30T01:30:06.634222Z"
    }
   },
   "outputs": [],
   "source": [
    "data_rata_suhu_tahun.shape"
   ]
  },
  {
   "cell_type": "markdown",
   "id": "34608d16",
   "metadata": {},
   "source": [
    "### 5. Dataset Pemakaian Energi Dan Penambangan Di Indonesia Pertahun"
   ]
  },
  {
   "cell_type": "code",
   "execution_count": null,
   "id": "b16c4225",
   "metadata": {
    "ExecuteTime": {
     "end_time": "2023-01-30T01:30:06.977224Z",
     "start_time": "2023-01-30T01:30:06.796222Z"
    }
   },
   "outputs": [],
   "source": [
    "data_energy_dan_mining = pandas.read_csv(\"./Dataset/energy-and-mining_idn.csv\")\n",
    "recap_data_energy_dan_mining = pandas.read_csv(\"./Dataset/qc_energy-and-mining_idn.csv\")"
   ]
  },
  {
   "cell_type": "code",
   "execution_count": null,
   "id": "ab2a8f45",
   "metadata": {
    "ExecuteTime": {
     "end_time": "2023-01-30T01:30:07.187224Z",
     "start_time": "2023-01-30T01:30:06.987223Z"
    }
   },
   "outputs": [],
   "source": [
    "data_energy_dan_mining.shape"
   ]
  },
  {
   "cell_type": "markdown",
   "id": "183e2a27",
   "metadata": {},
   "source": [
    "### 6. Dataset Perkembangan Kendaraan Bermotor Di Indonesia"
   ]
  },
  {
   "cell_type": "code",
   "execution_count": null,
   "id": "e1bc2e0d",
   "metadata": {
    "ExecuteTime": {
     "end_time": "2023-01-30T04:25:02.572617Z",
     "start_time": "2023-01-30T04:25:02.498678Z"
    }
   },
   "outputs": [],
   "source": [
    "data_kendaraan_satu = pandas.read_excel(\"./Dataset/Perkembangan Jumlah Kendaraan Bermotor Menurut Jenis.xlsx\", engine=\"openpyxl\")\n",
    "data_kendaraan_dua = pandas.read_excel(\"./Dataset/Perkembangan Jumlah Kendaraan Bermotor Menurut Jenis (1).xlsx\", engine=\"openpyxl\")"
   ]
  },
  {
   "cell_type": "markdown",
   "id": "b2b40a91",
   "metadata": {},
   "source": [
    "### 7. Dataset Tahunan Curah Hujan"
   ]
  },
  {
   "cell_type": "code",
   "execution_count": null,
   "id": "6d2555fe",
   "metadata": {
    "ExecuteTime": {
     "end_time": "2023-01-30T06:51:09.036133Z",
     "start_time": "2023-01-30T06:51:09.004155Z"
    }
   },
   "outputs": [],
   "source": [
    "dataset_curah_hujan_tahunan = pandas.read_csv(\"./Dataset/pr_timeseries_annual_cru_1901-2021_IDN.csv\")"
   ]
  },
  {
   "cell_type": "markdown",
   "id": "5dd876eb",
   "metadata": {},
   "source": [
    "### 8. Dataset Tahunan Min Suhu"
   ]
  },
  {
   "cell_type": "code",
   "execution_count": null,
   "id": "61568136",
   "metadata": {
    "ExecuteTime": {
     "end_time": "2023-01-30T06:52:00.213339Z",
     "start_time": "2023-01-30T06:52:00.181324Z"
    }
   },
   "outputs": [],
   "source": [
    "dataset_min_suhu_tahunan = pandas.read_csv(\"./Dataset/tasmin_timeseries_annual_cru_1901-2021_IDN.csv\")"
   ]
  },
  {
   "cell_type": "markdown",
   "id": "8f1b6ab6",
   "metadata": {},
   "source": [
    "### 9. Dataset Tahunan Max Suhu"
   ]
  },
  {
   "cell_type": "code",
   "execution_count": null,
   "id": "7a6ad951",
   "metadata": {
    "ExecuteTime": {
     "end_time": "2023-01-30T06:52:50.129835Z",
     "start_time": "2023-01-30T06:52:50.097833Z"
    }
   },
   "outputs": [],
   "source": [
    "dataset_max_suhu_tahunan = pandas.read_csv(\"./Dataset/tasmax_timeseries_annual_cru_1901-2021_IDN.csv\")"
   ]
  },
  {
   "cell_type": "markdown",
   "id": "830a88bb",
   "metadata": {},
   "source": [
    "### 10. Dataset Populasi Negara ASEAN"
   ]
  },
  {
   "cell_type": "code",
   "execution_count": null,
   "id": "cd5fa9fa",
   "metadata": {},
   "outputs": [],
   "source": [
    "def scrapWebsite(url):\n",
    "    try:\n",
    "        page = requests.get(url)\n",
    "        soup = BeautifulSoup(page.text, 'lxml')\n",
    "        table1 = soup.find('table', {\"class\": \"table\"})\n",
    "        headers = []\n",
    "        for i in table1.find_all('th'):\n",
    "             title = i.text\n",
    "             headers.append(title)\n",
    "        global populasi_data_ASEAN\n",
    "        populasi_data_ASEAN = pandas.DataFrame(columns = headers)\n",
    "        for j in table1.find_all('tr')[1:]:\n",
    "             row_data = j.find_all('td')\n",
    "             row = [i.text for i in row_data]\n",
    "             length = len(populasi_data_ASEAN)\n",
    "             populasi_data_ASEAN.loc[length] = row\n",
    "        print(\"Data berhasil dan siap digunakan, Edwin.\")\n",
    "        return populasi_data_ASEAN\n",
    "    except Exception as e:\n",
    "            print(\"Gagal Mengambil Data.\")\n",
    "\n",
    "url = 'https://www.worldometers.info/world-population/south-eastern-asia-population/'\n",
    "scrapWebsite(url)"
   ]
  },
  {
   "cell_type": "code",
   "execution_count": null,
   "id": "118d0793",
   "metadata": {},
   "outputs": [],
   "source": [
    "populasi_data_ASEAN"
   ]
  },
  {
   "cell_type": "code",
   "execution_count": null,
   "id": "5394d9b4",
   "metadata": {
    "ExecuteTime": {
     "end_time": "2023-01-30T06:54:05.392661Z",
     "start_time": "2023-01-30T06:54:05.360638Z"
    }
   },
   "outputs": [],
   "source": [
    "total_baris = dataset_tinggi_laut.shape[0] + data_climatology.shape[0] +  data_rata_suhu_bulan.shape[0] + data_rata_suhu_tahun.shape[0] + data_energy_dan_mining.shape[0] + data_kendaraan_satu.shape[0] + data_kendaraan_dua.shape[0] + dataset_curah_hujan_tahunan.shape[0] + dataset_min_suhu_tahunan.shape[0] + dataset_max_suhu_tahunan.shape[0] + populasi_data_ASEAN.shape[0]\n",
    "total_kolom = dataset_tinggi_laut.shape[1] + data_climatology.shape[1] +  data_rata_suhu_bulan.shape[1] + data_rata_suhu_tahun.shape[1] + data_energy_dan_mining.shape[1] + data_kendaraan_satu.shape[1] + data_kendaraan_dua.shape[1] + dataset_curah_hujan_tahunan.shape[1] + dataset_min_suhu_tahunan.shape[1] + dataset_max_suhu_tahunan.shape[1] + populasi_data_ASEAN.shape[1]\n",
    "print(\"Total \\nBaris: {}\\nKolom: {}\".format(total_baris,total_kolom))"
   ]
  },
  {
   "cell_type": "markdown",
   "id": "b1db0fc8",
   "metadata": {},
   "source": [
    "## EDA Dan Data Cleaning\n",
    "### 1. Dataset Ketinggian Air Laut"
   ]
  },
  {
   "cell_type": "code",
   "execution_count": null,
   "id": "4f106379",
   "metadata": {},
   "outputs": [],
   "source": [
    "dataset_tinggi_laut.head()"
   ]
  },
  {
   "cell_type": "code",
   "execution_count": null,
   "id": "6ad0f6e0",
   "metadata": {},
   "outputs": [],
   "source": [
    "dataset_tinggi_laut.info() "
   ]
  },
  {
   "cell_type": "code",
   "execution_count": null,
   "id": "4e635511",
   "metadata": {},
   "outputs": [],
   "source": [
    "dataset_tinggi_laut.tail()"
   ]
  },
  {
   "cell_type": "code",
   "execution_count": null,
   "id": "f3642610",
   "metadata": {},
   "outputs": [],
   "source": [
    "dataset_tinggi_laut.apply(pandas.isnull).sum()/dataset_tinggi_laut.shape[0]"
   ]
  },
  {
   "cell_type": "code",
   "execution_count": null,
   "id": "a12e0dfa",
   "metadata": {},
   "outputs": [],
   "source": [
    "dataset_tinggi_laut[dataset_tinggi_laut[\"CSIRO Adjusted Sea Level\"].isnull()]"
   ]
  },
  {
   "cell_type": "code",
   "execution_count": null,
   "id": "5e10b134",
   "metadata": {},
   "outputs": [],
   "source": [
    "clean_csiro_dataset_sea_level = dataset_tinggi_laut[dataset_tinggi_laut[\"CSIRO Adjusted Sea Level\"].notnull()]"
   ]
  },
  {
   "cell_type": "code",
   "execution_count": null,
   "id": "4153ef3e",
   "metadata": {},
   "outputs": [],
   "source": [
    "clean_csiro_dataset_sea_level"
   ]
  },
  {
   "cell_type": "markdown",
   "id": "e341975f",
   "metadata": {},
   "source": [
    "### 2. Dataset Climatology Rata-Rata Suhu Di Seluruh Dan Provinsi-Provinsi Di Indonesia 1991-2020 Pertahun Dan Perbulan"
   ]
  },
  {
   "cell_type": "code",
   "execution_count": null,
   "id": "093e868e",
   "metadata": {
    "ExecuteTime": {
     "end_time": "2023-01-30T01:30:11.954225Z",
     "start_time": "2023-01-30T01:30:11.783221Z"
    }
   },
   "outputs": [],
   "source": [
    "data_climatology.head()"
   ]
  },
  {
   "cell_type": "code",
   "execution_count": null,
   "id": "fb3c952d",
   "metadata": {
    "ExecuteTime": {
     "end_time": "2023-01-30T01:30:12.118221Z",
     "start_time": "2023-01-30T01:30:11.963222Z"
    }
   },
   "outputs": [],
   "source": [
    "data_climatology.rename(columns = {'Unnamed: 0':'Daerah', 'Annual':'Tahunan'}, inplace = True)"
   ]
  },
  {
   "cell_type": "code",
   "execution_count": null,
   "id": "a2e820ac",
   "metadata": {
    "ExecuteTime": {
     "end_time": "2023-01-30T01:30:12.355226Z",
     "start_time": "2023-01-30T01:30:12.128222Z"
    }
   },
   "outputs": [],
   "source": [
    "data_climatology.head()"
   ]
  },
  {
   "cell_type": "code",
   "execution_count": null,
   "id": "aed2a33d",
   "metadata": {
    "ExecuteTime": {
     "end_time": "2023-01-30T01:30:12.469227Z",
     "start_time": "2023-01-30T01:30:12.364221Z"
    }
   },
   "outputs": [],
   "source": [
    "data_climatology.isna().sum()"
   ]
  },
  {
   "cell_type": "code",
   "execution_count": null,
   "id": "86461797",
   "metadata": {
    "ExecuteTime": {
     "end_time": "2023-01-30T01:30:12.696222Z",
     "start_time": "2023-01-30T01:30:12.479223Z"
    }
   },
   "outputs": [],
   "source": [
    "data_climatology_tanpa_indo = data_climatology.drop(labels=0,axis=0)"
   ]
  },
  {
   "cell_type": "code",
   "execution_count": null,
   "id": "f975403c",
   "metadata": {
    "ExecuteTime": {
     "end_time": "2023-01-30T01:30:12.859225Z",
     "start_time": "2023-01-30T01:30:12.707223Z"
    }
   },
   "outputs": [],
   "source": [
    "data_climatology_tanpa_indo = data_climatology_tanpa_indo.sort_values(\"Tahunan\")"
   ]
  },
  {
   "cell_type": "code",
   "execution_count": null,
   "id": "51ef3be0",
   "metadata": {
    "ExecuteTime": {
     "end_time": "2023-01-30T01:30:13.215225Z",
     "start_time": "2023-01-30T01:30:12.869222Z"
    }
   },
   "outputs": [],
   "source": [
    "fig = px.bar(data_climatology_tanpa_indo,\n",
    "            x=\"Tahunan\",\n",
    "            y=\"Daerah\",\n",
    "            orientation=\"h\",\n",
    "            color=\"Tahunan\",\n",
    "            title=\"Jakarta Menduduki Peringkat Pertama Dengan Rata-Rata Suhu <b>28.04°C</b><br>Dari Rentang Tahun 1991 Hingga 2020 ...\",\n",
    "            color_continuous_scale='Temps',\n",
    "            template=\"plotly_dark\"\n",
    "            )\n",
    "fig.show()"
   ]
  },
  {
   "cell_type": "code",
   "execution_count": null,
   "id": "f673b508",
   "metadata": {
    "ExecuteTime": {
     "end_time": "2023-01-30T01:30:13.241221Z",
     "start_time": "2023-01-30T01:30:13.226225Z"
    }
   },
   "outputs": [],
   "source": [
    "data_climatology_jkt = data_climatology[data_climatology[\"Daerah\"]==\"Dki Jakarta\"]"
   ]
  },
  {
   "cell_type": "code",
   "execution_count": null,
   "id": "6595176d",
   "metadata": {
    "ExecuteTime": {
     "end_time": "2023-01-30T01:30:13.391230Z",
     "start_time": "2023-01-30T01:30:13.251221Z"
    }
   },
   "outputs": [],
   "source": [
    "data_climatology_jkt = data_climatology_jkt.drop(['Daerah',\"Tahunan\"],axis=1)"
   ]
  },
  {
   "cell_type": "code",
   "execution_count": null,
   "id": "bffb47aa",
   "metadata": {
    "ExecuteTime": {
     "end_time": "2023-01-30T01:30:13.557241Z",
     "start_time": "2023-01-30T01:30:13.405226Z"
    }
   },
   "outputs": [],
   "source": [
    "data_climatology_jkt = data_climatology_jkt.transpose()\n",
    "data_climatology_jkt.columns=[\"Rata-Rata Suhu\"]\n",
    "data_climatology_jkt.index.name=\"Bulan\""
   ]
  },
  {
   "cell_type": "code",
   "execution_count": null,
   "id": "1e77010a",
   "metadata": {
    "ExecuteTime": {
     "end_time": "2023-01-30T01:30:13.892224Z",
     "start_time": "2023-01-30T01:30:13.568223Z"
    }
   },
   "outputs": [],
   "source": [
    "fig  = px.line(data_climatology_jkt,\n",
    "              x=data_climatology_jkt.index,\n",
    "              y=\"Rata-Rata Suhu\",\n",
    "              template=\"plotly_dark\",\n",
    "              title=\"Dari Rentang Tahun 1991 Hingga 2020, <br>Rata-Rata Suhu Tertinggi Di Jakarta Berada Pada Bulan Oktober\")\n",
    "fig.show()"
   ]
  },
  {
   "cell_type": "markdown",
   "id": "bbe2b0c0",
   "metadata": {},
   "source": [
    "### 3. Dataset Rata-Rata Suhu Di Seluruh Dan Provinsi-Provinsi Indonesia Pertahun Dalam rentang 1901-2021"
   ]
  },
  {
   "cell_type": "code",
   "execution_count": null,
   "id": "df4b38ef",
   "metadata": {
    "ExecuteTime": {
     "end_time": "2023-01-30T01:30:14.088225Z",
     "start_time": "2023-01-30T01:30:13.901224Z"
    }
   },
   "outputs": [],
   "source": [
    "data_rata_suhu_bulan"
   ]
  },
  {
   "cell_type": "code",
   "execution_count": null,
   "id": "fadab9df",
   "metadata": {
    "ExecuteTime": {
     "end_time": "2023-01-30T01:30:14.166226Z",
     "start_time": "2023-01-30T01:30:14.096224Z"
    }
   },
   "outputs": [],
   "source": [
    "data_rata_suhu_bulan.isna().sum()"
   ]
  },
  {
   "cell_type": "code",
   "execution_count": null,
   "id": "83e18e4e",
   "metadata": {
    "ExecuteTime": {
     "end_time": "2023-01-30T01:30:14.403226Z",
     "start_time": "2023-01-30T01:30:14.177224Z"
    }
   },
   "outputs": [],
   "source": [
    "data_rata_suhu_bulan.rename(columns = {'Year':'Tahun'}, inplace = True)\n",
    "data_rata_suhu_bulan.set_index(\"Tahun\")"
   ]
  },
  {
   "cell_type": "markdown",
   "id": "87832b35",
   "metadata": {},
   "source": [
    "### 4. Dataset Rata-Rata Suhu Di Seluruh Dan Provinsi-Provinsi Indonesia Pertahun Dalam rentang 1901-2021"
   ]
  },
  {
   "cell_type": "code",
   "execution_count": null,
   "id": "12dac29d",
   "metadata": {
    "ExecuteTime": {
     "end_time": "2023-01-30T01:30:14.627224Z",
     "start_time": "2023-01-30T01:30:14.414222Z"
    }
   },
   "outputs": [],
   "source": [
    "data_rata_suhu_tahun"
   ]
  },
  {
   "cell_type": "code",
   "execution_count": null,
   "id": "37f034ea",
   "metadata": {
    "ExecuteTime": {
     "end_time": "2023-01-30T01:30:14.866227Z",
     "start_time": "2023-01-30T01:30:14.636223Z"
    }
   },
   "outputs": [],
   "source": [
    "data_rata_suhu_tahun.rename(columns = {'Unnamed: 0':'Tahun'}, inplace = True)\n",
    "data_rata_suhu_tahun.set_index(\"Tahun\")"
   ]
  },
  {
   "cell_type": "code",
   "execution_count": null,
   "id": "abc4ec28",
   "metadata": {
    "ExecuteTime": {
     "end_time": "2023-01-30T01:30:14.903225Z",
     "start_time": "2023-01-30T01:30:14.876221Z"
    }
   },
   "outputs": [],
   "source": [
    "data_rata_suhu_tahun.isna().sum()"
   ]
  },
  {
   "cell_type": "markdown",
   "id": "adf6dfe9",
   "metadata": {},
   "source": [
    " ### 5. Dataset Pemakaian Energi Dan Penambangan Di Indonesia Pertahun"
   ]
  },
  {
   "cell_type": "code",
   "execution_count": null,
   "id": "c0f4510e",
   "metadata": {
    "ExecuteTime": {
     "end_time": "2023-01-30T01:30:15.095225Z",
     "start_time": "2023-01-30T01:30:14.914225Z"
    }
   },
   "outputs": [],
   "source": [
    "data_energy_dan_mining"
   ]
  },
  {
   "cell_type": "code",
   "execution_count": null,
   "id": "78f23032",
   "metadata": {
    "ExecuteTime": {
     "end_time": "2023-01-30T01:30:15.258222Z",
     "start_time": "2023-01-30T01:30:15.108223Z"
    }
   },
   "outputs": [],
   "source": [
    "data_energy_dan_mining.isna().sum()"
   ]
  },
  {
   "cell_type": "code",
   "execution_count": null,
   "id": "c8675b72",
   "metadata": {
    "ExecuteTime": {
     "end_time": "2023-01-30T01:30:15.468224Z",
     "start_time": "2023-01-30T01:30:15.266222Z"
    }
   },
   "outputs": [],
   "source": [
    "data_energy_dan_mining[\"Indicator Name\"].unique()"
   ]
  },
  {
   "cell_type": "code",
   "execution_count": null,
   "id": "d4b3c7a9",
   "metadata": {
    "ExecuteTime": {
     "end_time": "2023-01-30T01:30:15.812225Z",
     "start_time": "2023-01-30T01:30:15.477221Z"
    }
   },
   "outputs": [],
   "source": [
    "data_energy_dan_mining[data_energy_dan_mining[\"Indicator Name\"]==\"Energy related methane emissions (% of total)\"]"
   ]
  },
  {
   "cell_type": "code",
   "execution_count": null,
   "id": "eb0b1647",
   "metadata": {
    "ExecuteTime": {
     "end_time": "2023-01-30T01:30:16.069223Z",
     "start_time": "2023-01-30T01:30:15.821221Z"
    }
   },
   "outputs": [],
   "source": [
    "recap_data_energy_dan_mining = recap_data_energy_dan_mining.drop(labels=0,axis=0)"
   ]
  },
  {
   "cell_type": "code",
   "execution_count": null,
   "id": "c3ef8fe7",
   "metadata": {
    "ExecuteTime": {
     "end_time": "2023-01-30T01:30:16.280226Z",
     "start_time": "2023-01-30T01:30:16.079223Z"
    }
   },
   "outputs": [],
   "source": [
    "recap_data_energy_dan_mining.info()"
   ]
  },
  {
   "cell_type": "code",
   "execution_count": null,
   "id": "8e0a761f",
   "metadata": {
    "ExecuteTime": {
     "end_time": "2023-01-30T01:30:16.470236Z",
     "start_time": "2023-01-30T01:30:16.290229Z"
    }
   },
   "outputs": [],
   "source": [
    "recap_data_energy_dan_mining[\"Value\"] = recap_data_energy_dan_mining[\"Value\"].astype(float)"
   ]
  },
  {
   "cell_type": "markdown",
   "id": "9bbf3578",
   "metadata": {},
   "source": [
    "### 6. Dataset Perkembangan Kendaraan"
   ]
  },
  {
   "cell_type": "code",
   "execution_count": null,
   "id": "2441f4e3",
   "metadata": {
    "ExecuteTime": {
     "end_time": "2023-01-30T04:01:50.837744Z",
     "start_time": "2023-01-30T04:01:50.793695Z"
    }
   },
   "outputs": [],
   "source": [
    "data_kendaraan_satu"
   ]
  },
  {
   "cell_type": "code",
   "execution_count": null,
   "id": "4acb751c",
   "metadata": {
    "ExecuteTime": {
     "end_time": "2023-01-30T04:25:12.483336Z",
     "start_time": "2023-01-30T04:25:12.449319Z"
    }
   },
   "outputs": [],
   "source": [
    "data_kendaraan_satu = data_kendaraan_satu.drop(index=[0,5,6,7,8,9],axis=1)\n",
    "data_kendaraan_satu.rename(columns={\"Perkembangan Jumlah Kendaraan Bermotor Menurut Jenis (Unit)\":2015,\"Unnamed: 2\":2016,\"Unnamed: 3\":2017},inplace=True)\n",
    "data_kendaraan_dua = data_kendaraan_dua.drop(index=[0,5,6,7,8,9],axis=1)\n",
    "data_kendaraan_dua.rename(columns={\"Perkembangan Jumlah Kendaraan Bermotor Menurut Jenis (Unit)\":2018,\"Unnamed: 2\":2019,\"Unnamed: 3\":2020},inplace=True)\n",
    "hasil_gabungan_kendaraan = pandas.merge(data_kendaraan_satu,data_kendaraan_dua,on='Jenis Kendaraan Bermotor')\n",
    "hasil_gabungan_kendaraan = hasil_gabungan_kendaraan.melt(id_vars=[\"Jenis Kendaraan Bermotor\"], \n",
    "        var_name=\"Tahun\", \n",
    "        value_name=\"Jumlah\")"
   ]
  },
  {
   "cell_type": "code",
   "execution_count": null,
   "id": "09a54ba6",
   "metadata": {
    "ExecuteTime": {
     "end_time": "2023-01-30T04:28:47.198520Z",
     "start_time": "2023-01-30T04:28:47.153507Z"
    }
   },
   "outputs": [],
   "source": [
    "hasil_gabungan_kendaraan"
   ]
  },
  {
   "cell_type": "markdown",
   "id": "74f3a443",
   "metadata": {},
   "source": [
    "### 7. Dataset Populasi Negara Di ASEAN"
   ]
  },
  {
   "cell_type": "code",
   "execution_count": null,
   "id": "571be6a3",
   "metadata": {},
   "outputs": [],
   "source": [
    "populasi_data_ASEAN.rename(columns={\"Population (2020) \":\"Population (2020)\"},inplace=True)\n",
    "himpunan_angka_hasil=[]\n",
    "for angka in populasi_data_ASEAN[\"Population (2020)\"]:\n",
    "    angka_konpert = angka.replace(\",\",\"\")\n",
    "    himpunan_angka_hasil.append(angka_konpert)\n",
    "\n",
    "populasi_data_ASEAN[\"Population (2020)\"] = himpunan_angka_hasil\n",
    "populasi_data_ASEAN[\"Population (2020)\"] = populasi_data_ASEAN[\"Population (2020)\"].astype(float)\n",
    "populasi_data_ASEAN"
   ]
  },
  {
   "cell_type": "markdown",
   "id": "c19d9b0b",
   "metadata": {},
   "source": [
    "# Jawaban\n",
    "## Bagaimana perkembangan iklim di Indonesia? Apa faktor terbesar yang mendorong semakin cepatnya perubahan iklim di Indonesia dan bagaimana cara kita mencegahnya?"
   ]
  },
  {
   "cell_type": "markdown",
   "id": "b2ee563e",
   "metadata": {},
   "source": [
    "Untuk menjawab pertanyaan pertama, meskipun letak suatu wilayah berbeda-beda, perkembangan iklim suatu wilayah tetap saja akan terpengaruhi dari dampak global. Sebelum masuk kedalam wilayah Indonesia, mari kita lihat perkembangan iklim secara global dari setiap tahunnya.\n",
    "\n",
    "### Perkembangan Iklim Setiap Tahun Dan Bulan\n",
    "#### A. Global\n",
    "<img src=\"./Video/nasa_real.gif\" width=\"750\" align=\"center\">\n",
    "\n",
    "\n",
    "<br>\n",
    "Dari gif diatas, dapat terlihat bahwa terdapat perubahan signifikan pada suhu udara. Hal ini menandakan adanya perubahan iklim yang sedang terjadi. Lalu salah satu hal lainnya yang harus kita perhatikan ialah, cepatnya perubahan signifikan tersebut. Menurut <i>https://www.climate.gov/news-features/understanding-climate/climate-change-global-temperature</i>, \n",
    "<blockquote>Earth’s temperature has risen by an average of 0.14° Fahrenheit (0.08° Celsius) per decade since 1880, or about 2° F in total. The rate of warming since 1981 is more than twice as fast: 0.32° F (0.18° C) per decade.</blockquote>\n",
    "Kenaikan suhu yang lebih cepat antara lain disebabkan oleh : \n",
    "<br>\n",
    "1. Polusi karbon yang disebabkan oleh pembakaran bahan bakar setiap harinya, dan pembakaran hutan.\n",
    "<br>\n",
    "2. Karbon dioksida\n",
    "<br>\n",
    "3. Metana\n",
    "<br>\n",
    "4. Soot\n",
    "<br>\n",
    "5. Dll.\n",
    "<br>\n",
    "Semua polutan ini bekerja seperti selimut pada atmosfer, dimana membuat sinar matahari tertahan dan membuat planet semakin hangat. Sebuah bukti juga menunjukan bahwa suhu pada tahun 2010-an keatas, lebih hangat dibandingkan dekade lainnya dan suhu pada tahun 1960-an lebih panas daripada dekade sebelumnya. Kenaikan suhu ini memiliki dampak terhadap daratan, atmosfer, lautan, dan es.\n",
    "\n",
    "B. Indonesia <br>\n",
    "Untuk mengetahui bagaimana perubahan iklim di Indonesia, hal pertama yang akan kami lakukan ialah membuat sebuah plot yang akan menggambarkan perkembangan rata-rata suhu pertahun. Untuk penggambarannya, kami menggunakan line plot. Selain itu, kami juga menghitung berapa persentase kenaikan/penurunan suhu dari satu waktu ke waktu lainnya. Perhitungan kenaikan/penurunan suhu tersebut kami lakukan secara manual berdasarkan formula,\n",
    "<br>\n",
    "<blockquote>\n",
    "A. Kenaikan \n",
    "<img src=\"https://uploads-cdn.omnicalculator.com/images/percentage_increase_eq2.png\">\n",
    "<br>\n",
    "B. Penurunan\n",
    "<img src=\"https://www.basic-mathematics.com/images/percent-of-decrease.jpg\">\n",
    "</blockquote>    \n",
    "<br>\n",
    "implementasi formula tersebut dapat dilihat pada cell berikut."
   ]
  },
  {
   "cell_type": "code",
   "execution_count": null,
   "id": "e3e6f99e",
   "metadata": {
    "ExecuteTime": {
     "end_time": "2023-01-30T01:30:16.748224Z",
     "start_time": "2023-01-30T01:30:16.481225Z"
    }
   },
   "outputs": [],
   "source": [
    "persentase=[]\n",
    "persentase_naik=[]\n",
    "persentase.append(\"0%\")\n",
    "for value in range(len(data_rata_suhu_tahun[\"Indonesia\"])-1):\n",
    "    hasil=\"\"\n",
    "    if value!=0:\n",
    "        if(data_rata_suhu_tahun[\"Indonesia\"][value]<data_rata_suhu_tahun[\"Indonesia\"][value+1]):\n",
    "            print(\"Naik\\nSaat ini : {} Selanjutnya : {}\".format(data_rata_suhu_tahun[\"Indonesia\"][value],data_rata_suhu_tahun[\"Indonesia\"][value+1]))\n",
    "            selisih_kenaikan=data_rata_suhu_tahun[\"Indonesia\"][value+1]-data_rata_suhu_tahun[\"Indonesia\"][value]\n",
    "            kenaikan = (selisih_kenaikan/data_rata_suhu_tahun[\"Indonesia\"][value])*100/100\n",
    "            hasil=\"+{:.5f}%\".format(kenaikan)\n",
    "            persentase_naik.append(kenaikan)\n",
    "        elif(data_rata_suhu_tahun[\"Indonesia\"][value]==data_rata_suhu_tahun[\"Indonesia\"][value+1]):\n",
    "            print(\"Tetap\\nSaat ini : {} Selanjutnya : {}\".format(data_rata_suhu_tahun[\"Indonesia\"][value],data_rata_suhu_tahun[\"Indonesia\"][value+1]))\n",
    "            hasil=\"0%\"\n",
    "        elif(data_rata_suhu_tahun[\"Indonesia\"][value]>data_rata_suhu_tahun[\"Indonesia\"][value+1]):\n",
    "            print(\"Turun\\nSaat ini : {} Selanjutnya : {}\".format(data_rata_suhu_tahun[\"Indonesia\"][value],data_rata_suhu_tahun[\"Indonesia\"][value+1]))\n",
    "            selisih_turun=data_rata_suhu_tahun[\"Indonesia\"][value]-data_rata_suhu_tahun[\"Indonesia\"][value+1]\n",
    "            penurunan = (selisih_turun/data_rata_suhu_tahun[\"Indonesia\"][value])*100/100    \n",
    "            hasil=\"-{:.5f}%\".format(penurunan)\n",
    "    else:\n",
    "        selisih_turun=data_rata_suhu_tahun[\"Indonesia\"][value]-data_rata_suhu_tahun[\"Indonesia\"][value+1]\n",
    "        penurunan = (selisih_turun/data_rata_suhu_tahun[\"Indonesia\"][value])*100/100    \n",
    "        hasil=\"-{:.5f}%\".format(penurunan)\n",
    "    persentase.append(hasil)\n",
    "    print(hasil)\n",
    "    print(\"\")"
   ]
  },
  {
   "cell_type": "code",
   "execution_count": null,
   "id": "5bea4fc9",
   "metadata": {
    "ExecuteTime": {
     "end_time": "2023-01-30T01:30:16.948221Z",
     "start_time": "2023-01-30T01:30:16.758223Z"
    }
   },
   "outputs": [],
   "source": [
    "len(persentase)"
   ]
  },
  {
   "cell_type": "markdown",
   "id": "bf6ce5ef",
   "metadata": {},
   "source": [
    "Setelah itu pembuatan subset dari dataset yang diambil, dengan tujuan untuk membuat data menjadi lebih spesifik dan relevan terkait dengan hal yang akan dicari. Setelah itu menggabungkan hasil dari perubahan persentase yang telah dibuat, dengan subset tersebut."
   ]
  },
  {
   "cell_type": "code",
   "execution_count": null,
   "id": "112b95fa",
   "metadata": {
    "ExecuteTime": {
     "end_time": "2023-01-30T01:30:17.250220Z",
     "start_time": "2023-01-30T01:30:16.973224Z"
    }
   },
   "outputs": [],
   "source": [
    "data_rata_suhu_tahun_indonesia = data_rata_suhu_tahun.copy()\n",
    "data_rata_suhu_tahun_indonesia = data_rata_suhu_tahun_indonesia[[\"Tahun\",\"Indonesia\"]]\n",
    "data_rata_suhu_tahun_indonesia[\"Persentase\"] = persentase"
   ]
  },
  {
   "cell_type": "code",
   "execution_count": null,
   "id": "d397397d",
   "metadata": {
    "ExecuteTime": {
     "end_time": "2023-01-30T01:30:17.446224Z",
     "start_time": "2023-01-30T01:30:17.259222Z"
    }
   },
   "outputs": [],
   "source": [
    "mean(persentase_naik)"
   ]
  },
  {
   "cell_type": "markdown",
   "id": "aa732fae",
   "metadata": {},
   "source": [
    "Selain itu, kami juga mengambil data rata-rata suhu perbulan berdasarkan tahun dengan rata-rata suhu tertinggi."
   ]
  },
  {
   "cell_type": "code",
   "execution_count": null,
   "id": "3cd62076",
   "metadata": {
    "ExecuteTime": {
     "end_time": "2023-01-30T01:30:17.616223Z",
     "start_time": "2023-01-30T01:30:17.456224Z"
    }
   },
   "outputs": [],
   "source": [
    "data_rata_suhu_bulan_dua_ribu_enam_belas = data_rata_suhu_bulan[data_rata_suhu_bulan[\"Tahun\"]==2016]\n",
    "data_rata_suhu_bulan_dua_ribu_enam_belas = data_rata_suhu_bulan_dua_ribu_enam_belas.drop(\"Tahun\",axis=1)\n",
    "data_rata_suhu_bulan_dua_ribu_enam_belas = data_rata_suhu_bulan_dua_ribu_enam_belas.transpose()\n",
    "data_rata_suhu_bulan_dua_ribu_enam_belas.index.name = \"Bulan\"\n",
    "data_rata_suhu_bulan_dua_ribu_enam_belas.columns = [\"Rata-Rata Suhu\"]"
   ]
  },
  {
   "cell_type": "markdown",
   "id": "93211357",
   "metadata": {},
   "source": [
    "Pembuatan plot menggunakan data-data tersebut."
   ]
  },
  {
   "cell_type": "code",
   "execution_count": null,
   "id": "28a4860b",
   "metadata": {
    "ExecuteTime": {
     "end_time": "2023-01-30T01:30:18.201225Z",
     "start_time": "2023-01-30T01:30:17.628223Z"
    }
   },
   "outputs": [],
   "source": [
    "fig = make_subplots(\n",
    "    rows=3, cols=1,\n",
    "    shared_xaxes=False,\n",
    "    horizontal_spacing=0.03,\n",
    "    specs=[[{\"type\": \"table\"}], \n",
    "           [{\"type\": \"scatter\"}],\n",
    "          [{\"type\": \"scatter\"}]],\n",
    "    subplot_titles=('','Rata-Rata Suhu Pertahun Dari Tahun 1901 Hingga 2021',  \n",
    "                    'Rata-Rata Suhu Perbulan Pada Tahun 2016')\n",
    ")\n",
    "\n",
    "fig.add_trace(\n",
    "    go.Table(\n",
    "        header=dict(\n",
    "            values=['Tahun', \"Suhu\", 'Persentase Naik/Turun'],\n",
    "            font=dict(size=12),\n",
    "            align=\"left\"\n",
    "    ),\n",
    "        cells=dict(\n",
    "            values=[data_rata_suhu_tahun_indonesia[\"Tahun\"],data_rata_suhu_tahun_indonesia[\"Indonesia\"],data_rata_suhu_tahun_indonesia[\"Persentase\"]],\n",
    "        align = \"left\")\n",
    "    ),\n",
    "    row=1, col=1\n",
    ")\n",
    "\n",
    "fig.add_trace(\n",
    "   go.Scatter(x=data_rata_suhu_tahun_indonesia[\"Tahun\"], y=data_rata_suhu_tahun_indonesia[\"Indonesia\"],\n",
    "                    mode='lines',\n",
    "                    name='lines'),\n",
    "   row=2, col=1\n",
    ") \n",
    "\n",
    "fig.add_trace(\n",
    "   go.Scatter(x=data_rata_suhu_bulan_dua_ribu_enam_belas.index, \n",
    "              y=data_rata_suhu_bulan_dua_ribu_enam_belas[\"Rata-Rata Suhu\"],\n",
    "                    mode='lines',\n",
    "                    name='lines'),\n",
    "   row=3, col=1\n",
    ") \n",
    "\n",
    "\n",
    "fig.update_layout(\n",
    "    height=900,\n",
    "    showlegend=False,\n",
    "    title_text=\"Dari tahun 1901 hingga 2021, <br>Indonesia rata-rata mengalami kenaikan suhu rata-rata sebesar <b>4%</b>\",\n",
    "    template=\"plotly_dark\"\n",
    ")\n",
    "\n",
    "fig.show()"
   ]
  },
  {
   "cell_type": "markdown",
   "id": "d3d9aa6d",
   "metadata": {},
   "source": [
    "Dari plot di atas dapat kita ketahui bahwa dari tahun 1901 hingga 2021, Indonesia mengalami kenaikan suhu rata-rata sebesar 4% hampir setiap tahunnya. Kenaikan suhu ini terlihat lebih signifikan dan lebih cepat setelah tahun 1980-an. Hal ini juga dibuktikan dengan sebuah pernyataan yang terdapat di dalam <i>NOAA 2021 Annual Climate Report</i>,\n",
    "<blockquote>\n",
    "    \"The combined land and ocean temperature has increased at an average rate of 0.14 degrees Fahrenheit (0.08 degrees Celsius) per decade since 1880; however, the average rate of increase since 1981 has been more than twice as fast: 0.32 °F (0.18 °C) per decade.\"\n",
    "</blockquote>\n",
    "Pada plot di atas juga dapat terlihat bahwa rata-rata suhu tertinggi terdapat pada tahun 2016, dengan rata-rata suhu sebesar <b>26.23</b>. Jika dilihat perbulan, maka suhu tertinggi berada pada bulan April. Ternyata gelombang panas yang terjadi Indonesia pada bulan April ini, tidak hanya terjadi di Indonesia. Seluruh dunia pun ikut merasakannya, terutama di Asia Tenggara. Gelombang panas ini disebabkan oleh el nino, sebuah fase hangat dari El Niño–Osilasi Selatan dan sering dikaitkan dengan sekelompok air laut hangat yang berkembang di pusat dan timur-tengah Pasifik khatulistiwa, termasuk daerah di lepas pantai Pasifik Amerika Selatan. Selain dikarenakan el nino, hal ini diperburuk oleh pemanasan global sehingga suhu semakin naik. Oleh karena itu, April 2016 menjadi bulan April terpanas yang tercatat secara global. Mari kita lihat wilayah mana di Indonesia yang memiliki suhu terpanas dan dampak apa yang dihasilkan dari perubahan iklim/pemanasan global ini.\n",
    "<img src=\"https://i.guim.co.uk/img/media/2f40e2d734f58d50c37c4b4114f474cec02765ca/136_0_3364_2019/master/3364.jpg?width=620&quality=85&dpr=1&s=none\"/>"
   ]
  },
  {
   "cell_type": "code",
   "execution_count": null,
   "id": "4e8e814f",
   "metadata": {
    "ExecuteTime": {
     "end_time": "2023-01-30T01:30:18.235223Z",
     "start_time": "2023-01-30T01:30:18.210225Z"
    }
   },
   "outputs": [],
   "source": [
    "data_rata_suhu_tahun_2016 = data_rata_suhu_tahun[data_rata_suhu_tahun[\"Tahun\"]==2016]\n",
    "data_rata_suhu_tahun_2016 = data_rata_suhu_tahun_2016.transpose()\n",
    "data_rata_suhu_tahun_2016 = data_rata_suhu_tahun_2016.drop(labels=\"Tahun\",axis=0)\n",
    "data_rata_suhu_tahun_2016 = data_rata_suhu_tahun_2016.drop(labels=\"Indonesia\",axis=0)\n",
    "data_rata_suhu_tahun_2016.columns=[\"Rata-Rata Suhu\"]\n",
    "data_rata_suhu_tahun_2016.index.name=\"Daerah\""
   ]
  },
  {
   "cell_type": "code",
   "execution_count": null,
   "id": "69e4eac4",
   "metadata": {
    "ExecuteTime": {
     "end_time": "2023-01-30T01:30:18.425224Z",
     "start_time": "2023-01-30T01:30:18.245222Z"
    }
   },
   "outputs": [],
   "source": [
    "file_peta_indonesia = \"./Dataset/idn_adm_bps_20200401_shp/idn_admbnda_adm1_bps_20200401.shp\""
   ]
  },
  {
   "cell_type": "code",
   "execution_count": null,
   "id": "5f27c25c",
   "metadata": {
    "ExecuteTime": {
     "end_time": "2023-01-30T01:30:27.745230Z",
     "start_time": "2023-01-30T01:30:18.435222Z"
    }
   },
   "outputs": [],
   "source": [
    "peta_indonesia = gpd.read_file(file_peta_indonesia)"
   ]
  },
  {
   "cell_type": "code",
   "execution_count": null,
   "id": "cd1d6265",
   "metadata": {
    "ExecuteTime": {
     "end_time": "2023-01-30T01:31:31.067217Z",
     "start_time": "2023-01-30T01:30:27.753222Z"
    }
   },
   "outputs": [],
   "source": [
    "peta_indonesia"
   ]
  },
  {
   "cell_type": "code",
   "execution_count": null,
   "id": "f3376df6",
   "metadata": {
    "ExecuteTime": {
     "end_time": "2023-01-30T01:31:31.091220Z",
     "start_time": "2023-01-30T01:31:31.075221Z"
    }
   },
   "outputs": [],
   "source": [
    "data_rata_suhu_tahun_2016.rename(index={\"Nangroe Aceh Darussalam\":\"Aceh\",\n",
    "                                                              \"Bangka Belitung\":\"Kepulauan Bangka Belitung\",\n",
    "                                                              \"Kepulauan-riau\":\"Kepulauan Riau\",\n",
    "                                                               \"Nusatenggara Timur\":\"Nusa Tenggara Timur\",\n",
    "                                                               \"Nusatenggara Barat\":\"Nusa Tenggara Barat\"},\n",
    "                                                            inplace=True)"
   ]
  },
  {
   "cell_type": "code",
   "execution_count": null,
   "id": "1869d9ae",
   "metadata": {
    "ExecuteTime": {
     "end_time": "2023-01-30T01:31:31.428223Z",
     "start_time": "2023-01-30T01:31:31.100222Z"
    }
   },
   "outputs": [],
   "source": [
    "file_dataset_peta_minimal_geo = \"./Dataset/idn_adm_bps_20200401_shp/newmap.shp\"\n",
    "dataset_peta_minimal_geo = gpd.read_file(file_dataset_peta_minimal_geo)\n",
    "dataset_peta_minimal_geo = dataset_peta_minimal_geo.drop(\"FID\",axis=1)"
   ]
  },
  {
   "cell_type": "code",
   "execution_count": null,
   "id": "fee95ae7",
   "metadata": {
    "ExecuteTime": {
     "end_time": "2023-01-30T01:31:31.466223Z",
     "start_time": "2023-01-30T01:31:31.438223Z"
    }
   },
   "outputs": [],
   "source": [
    "dataset_gabungan_peta = peta_indonesia.set_index('ADM1_EN').join(data_rata_suhu_tahun_2016.set_index(data_rata_suhu_tahun_2016.index))"
   ]
  },
  {
   "cell_type": "code",
   "execution_count": null,
   "id": "25d7de01",
   "metadata": {
    "ExecuteTime": {
     "end_time": "2023-01-30T01:31:31.561223Z",
     "start_time": "2023-01-30T01:31:31.478225Z"
    }
   },
   "outputs": [],
   "source": [
    "geo_to_pd = pandas.DataFrame(dataset_gabungan_peta)\n",
    "minimal_map_geo_to_pd = pandas.DataFrame(dataset_peta_minimal_geo)\n",
    "geometry_sederhana = []\n",
    "for i in minimal_map_geo_to_pd[\"geometry\"]:\n",
    "    geometry_sederhana.append(i)\n",
    "geo_to_pd[\"geometry\"] = geometry_sederhana\n",
    "peta_indonesia_df = gpd.GeoDataFrame(geo_to_pd)"
   ]
  },
  {
   "cell_type": "code",
   "execution_count": null,
   "id": "ce73b60e",
   "metadata": {
    "ExecuteTime": {
     "end_time": "2023-01-30T03:51:38.562239Z",
     "start_time": "2023-01-30T03:51:35.170238Z"
    }
   },
   "outputs": [],
   "source": [
    "fig = px.choropleth(peta_indonesia_df, geojson=peta_indonesia_df.geometry, \n",
    "                    locations=peta_indonesia_df.index, color=\"Rata-Rata Suhu\",\n",
    "                    height=500,\n",
    "                   color_continuous_scale=\"Temps\")\n",
    "fig.update_geos(fitbounds=\"locations\", visible=True)\n",
    "fig.update_layout(\n",
    "    title_text='Persebaran Suhu Rata-Rata Indonesia Tahun 2016'\n",
    ")\n",
    "fig.update(layout = dict(title=dict(x=0.5)))\n",
    "fig.update_layout(\n",
    "    margin={\"r\":0,\"t\":30,\"l\":10,\"b\":10},\n",
    "    coloraxis_colorbar={\n",
    "        'title':'Suhu'},\n",
    "    template=\"plotly_dark\")\n",
    "fig.show()"
   ]
  },
  {
   "cell_type": "markdown",
   "id": "015dbbe8",
   "metadata": {},
   "source": [
    "Melalui peta diatas, suhu paling tinggi terdapat pada daerah Riau dan sekitarnya. Dampak yang dihasilkan ialah kondisi panas tersebut berpotensi menyebabkan kebakaran lahan dan hutan terutama di wilayah pesisir, meskipun curah hujan yang lumayan tinggi. Kebakaran hutan merupakan sebuah hal yang tidak asing lagi bagi masyarakat Riau dan sekitarnya, bahkan salah satu kebakaran hutan yang terjadi di daerah tersebut pernah mengakibatkan diselimutinya kota Riau dengan kabut asap tebal pada tahun 2013 lalu. Selain itu kabut asap tebal ini juga sampai hingga Malaysia dan Singapore. Hal ini menyebabkan banyak sekali orang yang mengidap penyakit pernapasan ISPA dikarenakan indeks kualitas udaranya yang tidak sehat.\n",
    "<img src=\"https://o-cdn-cas.sirclocdn.com/parenting/images/mengenal_emfisema_penyakit_karena.width-800.format-webp.webp\" />\n",
    "Meskipun kebakaran hutan tersebut tidak sepenuhnya akibat dari pemanasan global melainkan dari oknum yang membakar hutan sembarangan, tetapi pemanasan global tetap memiliki peran besar dalam kenaikan suhu pada global.\n",
    "<img src=\"https://statik.tempo.co/data/2016/08/15/id_530762/530762_620.jpg\" />\n",
    "\n",
    "#### Penyebab Perubahan Iklim\n",
    "Salah satu faktor yang mempengaruhi terjadinya perubahan iklim ialah pemanasan global. Saat emisi seperti karbondioksida, nitrous oksida, dan metana menyelimuti bumi, panas matahari pun terperangkap. Hal ini menyebabkan pemanasan global yang memiliki dampak seperti es kutub yang lebih cepat mencair dsb. Efek diselimutinya bumi oleh elemen-elemen gas ini sering disebut juga sebagai efek rumah kaca. Sebuah penelitian juga mengatakan bahwa jika emisi tahunan terus meningkat, maka pada akhir abad ini, suhu di bumi akan setidaknya lebih hangat daripada rata-rata tahun 1901-1960. Gas-gas ini dapat dihasilkan dari berbagai macam hal seperti karbon dioksida (Yang didapatkan dari pembakaran fosil, proses industrial, kehutanan), Metana (pupuk), dan Nitrous Oksida(agriculture). Penghasilan gas-gas ini dipercepat ketika penggunaan energi misalnya listrik, penggunaan transportasi mesin, bangunan, dan industri semakin dibutuhkan saat ini."
   ]
  },
  {
   "cell_type": "code",
   "execution_count": null,
   "id": "4a0e009b",
   "metadata": {},
   "outputs": [],
   "source": [
    "fig = px.bar(populasi_data_ASEAN,\n",
    "            x=\"Country\",\n",
    "            y=\"Population (2020)\",\n",
    "            template=\"plotly_dark\",\n",
    "            title=\"Indonesia merupakan negara dengan penduduk terbanyak di Asia Tenggara\")\n",
    "fig.show()"
   ]
  },
  {
   "cell_type": "markdown",
   "id": "1d2e7bf8",
   "metadata": {},
   "source": [
    "Untuk membuktikannya, kami akan membuat sebuah plot yang membandingkan emisi yang dihasilkan dari tahun 2000 hingga 2016. Kami akan bandingkan dengan penggunaan energi listrik, dan kendaraan bermotor. Mengapa? Dikarenakan mengingat fakta bahwa semakin tinggi jumlah penduduk maka akan semakin tinggi juga penggunaan energi listrik, dan kedudukan Indonesia di peringkat ketiga sebagai negara dengan penggunaan sepeda motor terbanyak setelah Amerika Serikat (AS) di posisi pertama, dan Turki di peringkat kedua. Selain itu dari plot bar di atas, dapat dilihat bahwa Indonesia merupakan negara dengan jumlah penduduk paling banyak di Asia Tenggara."
   ]
  },
  {
   "cell_type": "code",
   "execution_count": null,
   "id": "9289d2a6",
   "metadata": {
    "ExecuteTime": {
     "end_time": "2023-01-30T01:39:50.461917Z",
     "start_time": "2023-01-30T01:39:50.410916Z"
    }
   },
   "outputs": [],
   "source": [
    "recap_data_energy_dan_mining"
   ]
  },
  {
   "cell_type": "code",
   "execution_count": null,
   "id": "ffe49d69",
   "metadata": {
    "ExecuteTime": {
     "end_time": "2023-01-30T02:40:38.590017Z",
     "start_time": "2023-01-30T02:40:38.554037Z"
    }
   },
   "outputs": [],
   "source": [
    "metana = data_energy_dan_mining[(data_energy_dan_mining[\"Indicator Name\"]==\"Methane emissions in energy sector (thousand metric tons of CO2 equivalent)\") & \n",
    "                                (data_energy_dan_mining[\"Year\"]>=2000) & (data_energy_dan_mining[\"Year\"]<=2016)]\n",
    "karbon = data_energy_dan_mining[(data_energy_dan_mining[\"Indicator Name\"]==\"CO2 emissions from liquid fuel consumption (kt)\") & \n",
    "                                (data_energy_dan_mining[\"Year\"]>=2000) & (data_energy_dan_mining[\"Year\"]<=2016)]\n",
    "nitro  = data_energy_dan_mining[(data_energy_dan_mining[\"Indicator Name\"]==\"Nitrous oxide emissions in energy sector (thousand metric tons of CO2 equivalent)\") & \n",
    "                                (data_energy_dan_mining[\"Year\"]>=2000) & (data_energy_dan_mining[\"Year\"]<=2016)]\n",
    "metana[\"Value\"] = metana[\"Value\"].astype(int)\n",
    "karbon[\"Value\"] = karbon[\"Value\"].astype(int)\n",
    "nitro[\"Value\"]  = nitro[\"Value\"].astype(int)"
   ]
  },
  {
   "cell_type": "code",
   "execution_count": null,
   "id": "a15fb9f4",
   "metadata": {
    "ExecuteTime": {
     "end_time": "2023-01-30T03:32:57.888542Z",
     "start_time": "2023-01-30T03:32:57.739513Z"
    },
    "scrolled": false
   },
   "outputs": [],
   "source": [
    "plot = go.Figure()\n",
    "  \n",
    "plot.add_trace(go.Scatter(\n",
    "    name = 'Metana',\n",
    "    x = metana[\"Year\"],\n",
    "    y = metana[\"Value\"],\n",
    "    stackgroup='one'\n",
    "   ))\n",
    "  \n",
    "plot.add_trace(go.Scatter(\n",
    "    name = 'Karbon',\n",
    "    x = karbon[\"Year\"],\n",
    "    y = karbon[\"Value\"],\n",
    "    stackgroup='two'\n",
    "   )\n",
    ")\n",
    "\n",
    "plot.add_trace(go.Scatter(\n",
    "    name = 'Nitro',\n",
    "    x = nitro[\"Year\"],\n",
    "    y = nitro[\"Value\"],\n",
    "    stackgroup='three'\n",
    "   )\n",
    ")\n",
    "plot.update_layout(\n",
    "    template=\"plotly_dark\",\n",
    "    title=\"Perkembangan Gas Penyebab Greenhouse Effect Setiap Tahunnya<br>Seiring Dengan Semakin Banyaknya Penggunaan Energi Dan Tambang\",\n",
    "    yaxis_title=\"Jumlah Dalam Metrik Ton\",\n",
    "    xaxis_title=\"Tahun\",\n",
    "    legend_title=\"Elemen\",\n",
    ")\n",
    "plot.show()"
   ]
  },
  {
   "cell_type": "markdown",
   "id": "dc4371fc",
   "metadata": {},
   "source": [
    "Dapat terlihat dari graph di atas bahwa dalam 16 tahun terakhir terdapat sebuah kenaikan, kenaikan ini lebih terlihat pada karbondioksida. Mari kita lihat penggunaan listrik, dan kendaraan bermotor."
   ]
  },
  {
   "cell_type": "code",
   "execution_count": null,
   "id": "e63f2178",
   "metadata": {
    "ExecuteTime": {
     "end_time": "2023-01-30T01:41:43.368781Z",
     "start_time": "2023-01-30T01:41:43.326770Z"
    }
   },
   "outputs": [],
   "source": [
    "data_energy_dan_mining[data_energy_dan_mining[\"Indicator Code\"]==\"IC.ELC.TIME\"]"
   ]
  },
  {
   "cell_type": "code",
   "execution_count": null,
   "id": "6c293db2",
   "metadata": {
    "ExecuteTime": {
     "end_time": "2023-01-30T03:41:22.329615Z",
     "start_time": "2023-01-30T03:41:22.101379Z"
    }
   },
   "outputs": [],
   "source": [
    "subset_data_populasi_listrik = recap_data_energy_dan_mining[recap_data_energy_dan_mining[\"Indicator Code\"]==\"EG.ELC.ACCS.ZS\"]\n",
    "subset_data_populasi_listrik = subset_data_populasi_listrik.sort_values(\"Year\",ascending=True)\n",
    "fig = px.line(subset_data_populasi_listrik,\n",
    "             x=\"Year\",\n",
    "             y=\"Value\",\n",
    "             title=\"Perkembangan Penggunaan Listrik Dalam Satuan % Di Indonesia\",\n",
    "             template=\"plotly_dark\")\n",
    "fig.update_layout(\n",
    " yaxis_title=\"Jumlah Pengguna Listrik Dalam %\",\n",
    " xaxis_title=\"Tahun\"\n",
    ")\n",
    "fig.show()"
   ]
  },
  {
   "cell_type": "markdown",
   "id": "67be21c2",
   "metadata": {},
   "source": [
    "Berdasarkan data pada tahun 2020, sekitar 96.65% dari populasi rakyat Indonesia telah menggunakan listrik. Ini berarti ada sekitar 264 juta rakyat Indonesia yang telah menggunakan listrik."
   ]
  },
  {
   "cell_type": "code",
   "execution_count": null,
   "id": "e2caca55",
   "metadata": {
    "ExecuteTime": {
     "end_time": "2023-01-30T04:31:22.158570Z",
     "start_time": "2023-01-30T04:31:21.859571Z"
    }
   },
   "outputs": [],
   "source": [
    "fig = px.bar(hasil_gabungan_kendaraan, \n",
    "             x=\"Tahun\", \n",
    "             y=\"Jumlah\", \n",
    "             color=\"Jenis Kendaraan Bermotor\", \n",
    "             title=\"Pada Tahun 2020, hampir 50% penduduk Indonesia Menggunakan Sepeda Motor.\",\n",
    "             template=\"plotly_dark\")\n",
    "fig.show()"
   ]
  },
  {
   "cell_type": "markdown",
   "id": "6679238a",
   "metadata": {},
   "source": [
    "Berdasarkan data survey yang dikumpulkan dari tahun 2015 hingga 2020, jumlah pengguna kendaraan pribadi terutama motor terus meningkat secara drastis. Puncak tertinggi ialah ketika tahun 2020, dimana saat penggunaan tempat/transportasi publik mulai dikurangi dikarenakan covid, sehingga pengguna motor meningkat hingga hampir 50% penduduk Indonesia."
   ]
  },
  {
   "cell_type": "markdown",
   "id": "389cc130",
   "metadata": {},
   "source": [
    "<br>\n",
    "<blockquote>Kedua plot diatas membuktikan bahwa semakin banyak penggunaan energi seperti listrik, dan kendaraan bermotor maka jumlah emisi yang berpotensi menimbulkan efek rumah kaca tersebut akan semakin banyak.</blockquote>\n",
    "\n",
    "## Solusi\n",
    "Global warming adalah suatu proses meningkatnya suhu rata-rata udara, atmosfer, laut, dan daratan Bumi. Salah satu yang menyebabkan global warming ialah greenhouse effect. Efek rumah kaca atau Green House Effect (GHE) terbentuk dari adanya gas-gas rumah kaca di atmosfer bumi. Efek rumah kaca juga diartikan sebagai proses pemanasan alami, yang terjadi apabila gas-gasnya terperangkap radiasi panas di bumi.\n",
    "Pada atmosfer bumi terdapat beberapa gas-gas rumah kaca alami yang penting, seperti siklus air, uap air (H2O), karbon dioksida (CO2), Nitrous Oxide (N2O) , Methana (CH4), Ozon (O3), CFC, dan HFC. Tanpa adanya gas-gas tersebut, kehidupan di bumi tidak akan mungkin terjadi. Tetapi jika gas-gas tersebut terlalu banyak, maka suhu di bumi akan meningkat dikarenakan terperangkapnya cahaya matahari yang masuk ke dalam bumi sehingga menyebabkan pemanasan global. Pemanasan global dapat mengakibatkan hal seperti,\n",
    "1. Kebakaran Hutan\n",
    "2. Mencairnya Es di Kutub\n",
    "3. Terjadinya Wabah Penyakit\n",
    "4. Kabut Asap\n",
    "5. Krisis Air Bersih\n",
    "6. Naiknya Permukaan Air Laut\n",
    "7. Meningkatnya Suhu Air Laut\n",
    "8. Rusaknya Terumbu Karang.\n",
    "\n",
    "Solusi yang dapat kita lakukan untuk menanggulangi pemanasan global ialah dengan cara,\n",
    "1. Pengurangan Kendaraan Pribadi Dan Gunakan Sepeda Atau Kendaraan Umum<br>Salah satu komposisi asap yang dihasilkan oleh kendaraan bermotor yaitu karbon dioksida. Berdasarkan data yang telah kita olah, karbon dioksida merupakan salah satu komposisi terbesar dalam pembentukan efek rumah kaca dengan jumlahnya yang semakin meningkat setiap tahunnya. Di Indonesia salah satu penghasil gas karbon dioksida terbesar ialah sepeda motor. Oleh karena itu cara pertama yang dapat dilakukan untuk mengatasi global warming ialah pengurangan kendaraan pribadi seperti motor dan mobil lalu menggantinya dengan sepeda atau kendaraan umum.\n",
    "2. Gunakan Barang Hemat Energi<br>\n",
    "Berdasarkan data diatas, penggunaan energi seperti listrik dapat meningkatkan emisi yang dapat menyebabkan pemanasan global. Hal ini dikarenakan dalam pembuatan energi tersebut, pabrik menghasilkan menggunakan bahan seperti bahan bakar fosil, arang, minyak dan sebagainya yang dapat menyebabkan meningkatnya kadar emisi meningkat. Terlebih semakin banyaknya penduduk yang membutuhkan listrik tersebut.\n",
    "3. Menanam Pohon<br>\n",
    "Pohon dapat melawan peningkatan karbon dioksida yang disebabkan oleh lalu lintas mobil, manufaktur, dan aktivitas manusia lainnya."
   ]
  },
  {
   "cell_type": "code",
   "execution_count": null,
   "id": "2ca12344",
   "metadata": {},
   "outputs": [],
   "source": [
    "subset_curah_hujan = dataset_curah_hujan_tahunan.loc[99:]\n",
    "subset_min_suhu    = dataset_min_suhu_tahunan.loc[99:]\n",
    "subset_max_suhu    = dataset_max_suhu_tahunan.loc[99:]\n",
    "customdata = numpy.stack((subset_curah_hujan[\"Unnamed: 0\"], subset_curah_hujan[\"Indonesia\"],subset_min_suhu['Indonesia'], subset_max_suhu['Indonesia']), axis=-1)\n",
    "fig = go.Figure(\n",
    "    data=go.Bar(\n",
    "        x=subset_curah_hujan[\"Unnamed: 0\"],\n",
    "        y=subset_curah_hujan[\"Indonesia\"],\n",
    "        name=\"Curah Hujan Tahunan\",\n",
    "        marker=dict(color=\"paleturquoise\"),       \n",
    "        hovertemplate='<b>Tahun:%{customdata[0]}<br>Curah Hujan:%{customdata[1]:.3f}<br>Suhu Minimal:%{customdata[2]:.3f} <br>Suhu Maximal: %{customdata[3]:.3f}</b>'\n",
    "    )\n",
    ")\n",
    "\n",
    "fig.add_trace(\n",
    "    go.Scatter(\n",
    "        x=subset_min_suhu[\"Unnamed: 0\"],\n",
    "        y=subset_min_suhu[\"Indonesia\"],\n",
    "        yaxis=\"y2\",\n",
    "        name=\"Suhu Minimal Tahunan\",\n",
    "        marker=dict(color=\"Yellow\"),\n",
    "        mode='lines+markers',\n",
    "        hoverinfo='none'\n",
    "    )\n",
    ")\n",
    "fig.add_trace(\n",
    "    go.Scatter(\n",
    "        x=subset_max_suhu[\"Unnamed: 0\"],\n",
    "        y=subset_max_suhu[\"Indonesia\"],\n",
    "        yaxis=\"y2\",\n",
    "        name=\"Suhu Maksimal Tahunan\",\n",
    "        marker=dict(color=\"Red\"),\n",
    "        mode='lines+markers',\n",
    "        hoverinfo='none'\n",
    "    )\n",
    ")\n",
    "fig.update_traces(\n",
    "    customdata=customdata\n",
    ")\n",
    "fig.update_layout(\n",
    "    legend=dict(orientation=\"h\"),\n",
    "    yaxis=dict(\n",
    "        title=dict(text=\"Curah Hujan Tahunan\"),\n",
    "        side=\"left\",\n",
    "    ),\n",
    "    yaxis2=dict(\n",
    "        title=dict(text=\"Suhu Minimal Tahunan\"),\n",
    "        side=\"right\",\n",
    "        overlaying=\"y\",\n",
    "        tickmode=\"linear\",\n",
    "    ),\n",
    "    yaxis3=dict(\n",
    "        title=dict(text=\"Suhu Maksimal Tahunan\"),\n",
    "        side=\"right\",\n",
    "        overlaying=\"y\",\n",
    "        tickmode=\"linear\",\n",
    "    ),\n",
    "    template=\"plotly_dark\",\n",
    "    hovermode=\"x\",\n",
    "    title=\"Perkembangan Suhu Dan Curah Hujan Dari Tahun 2000 Hingga 2021\"\n",
    ")\n",
    "\n",
    "fig.show()"
   ]
  },
  {
   "cell_type": "markdown",
   "id": "c7fd84ce",
   "metadata": {},
   "source": [
    "## 2. Misalkan jika tidak ada perubahan yang dilakukan, apa yang akan terjadi pada air laut sekitar beberapa tahun kedepan?"
   ]
  },
  {
   "cell_type": "code",
   "execution_count": null,
   "id": "21bc7877",
   "metadata": {},
   "outputs": [],
   "source": [
    "import matplotlib.pyplot as plt\n",
    "from sklearn.linear_model import LinearRegression\n",
    "from sklearn.metrics import mean_squared_error\n",
    "import seaborn as sns\n",
    "%matplotlib inline"
   ]
  },
  {
   "cell_type": "code",
   "execution_count": null,
   "id": "a2e8a8e6",
   "metadata": {},
   "outputs": [],
   "source": [
    "fig = px.scatter(\n",
    "    x=clean_csiro_dataset_sea_level[\"Year\"],\n",
    "    y=clean_csiro_dataset_sea_level[\"CSIRO Adjusted Sea Level\"],\n",
    "    title=\"Terlihat terdapat kenaikan air laut yang signifikan dari tahun 1880 hingga 2003\",\n",
    "    template=\"plotly_dark\",\n",
    "    labels={\"x\":\"Tahun\",\n",
    "           \"y\":\"Tinggi Air Laut (inci)\"}\n",
    ")\n",
    "\n",
    "fig.show()"
   ]
  },
  {
   "cell_type": "code",
   "execution_count": null,
   "id": "8e487da2",
   "metadata": {},
   "outputs": [],
   "source": [
    "model_regress_satu = LinearRegression()\n",
    "X_train = clean_csiro_dataset_sea_level[[\"Year\"]]\n",
    "Y_train = clean_csiro_dataset_sea_level[\"CSIRO Adjusted Sea Level\"]\n",
    "model_regress_satu.fit(X_train,Y_train)"
   ]
  },
  {
   "cell_type": "code",
   "execution_count": null,
   "id": "f795a395",
   "metadata": {},
   "outputs": [],
   "source": [
    "print(model_regress_satu.coef_)\n",
    "print(mean_squared_error(Y_train,model_regress_satu.predict(X_train)))"
   ]
  },
  {
   "cell_type": "code",
   "execution_count": null,
   "id": "b287f1f9",
   "metadata": {},
   "outputs": [],
   "source": [
    "x_pred = pandas.Series([i for i in range(1880,2051)])\n",
    "y_pred = model_regress_satu.coef_*x_pred + model_regress_satu.intercept_"
   ]
  },
  {
   "cell_type": "code",
   "execution_count": null,
   "id": "f7ca781e",
   "metadata": {},
   "outputs": [],
   "source": [
    "clean_csiro_dataset_sea_level_2000 = clean_csiro_dataset_sea_level[clean_csiro_dataset_sea_level[\"Year\"]>=2000] \n",
    "x_train_dua = clean_csiro_dataset_sea_level_2000[[\"Year\"]]\n",
    "y_train_dua = clean_csiro_dataset_sea_level_2000[\"CSIRO Adjusted Sea Level\"]\n",
    "model_regress_dua = LinearRegression()\n",
    "model_regress_dua.fit(x_train_dua,y_train_dua)\n",
    "x_pred_dua = pandas.Series([i for i in range(2000,2051)])\n",
    "y_pred_dua = model_regress_dua.coef_*x_pred_dua + model_regress_dua.intercept_\n",
    "plt.plot(x_pred_dua,y_pred_dua,\"green\")"
   ]
  },
  {
   "cell_type": "code",
   "execution_count": null,
   "id": "593c1cb2",
   "metadata": {},
   "outputs": [],
   "source": [
    "from plotly.subplots import make_subplots\n",
    "\n",
    "kenaikan_tahun = go.Scatter(\n",
    "                 x=dataset_tinggi_laut[\"Year\"],\n",
    "                 y=dataset_tinggi_laut[\"CSIRO Adjusted Sea Level\"],\n",
    "                 name=\"Tinggi Air Laut\",\n",
    "                 marker = {'color' : 'Blue'}\n",
    ")\n",
    "\n",
    "linear = go.Line(\n",
    "                x=x_pred,\n",
    "                y=y_pred,\n",
    "                marker = {'color' : 'red'},\n",
    "                name=\"\",\n",
    ")\n",
    "pred = go.Line(\n",
    "                x=x_pred_dua,\n",
    "                y=y_pred_dua,\n",
    "                marker = {'color' : 'green'},\n",
    "                name=\"Prediksi Tinggi Air Laut\"\n",
    ")\n",
    "fig = make_subplots(specs=[[{\"secondary_y\": True}]])\n",
    "fig.add_trace(linear)\n",
    "fig.add_trace(pred)\n",
    "fig.add_trace(kenaikan_tahun)\n",
    "fig['layout'].update(\n",
    "    height = 800, \n",
    "    width = 800,\n",
    "    xaxis=dict(\n",
    "      tickangle=-90\n",
    "    ),\n",
    "    xaxis_title=\"Tahun\",\n",
    "    yaxis_title=\"Tinggi Air Laut (inci)\",\n",
    "    template=\"plotly_dark\")\n",
    "fig.show()"
   ]
  }
 ],
 "metadata": {
  "hide_input": false,
  "kernelspec": {
   "display_name": "Python 3 (ipykernel)",
   "language": "python",
   "name": "python3"
  },
  "language_info": {
   "codemirror_mode": {
    "name": "ipython",
    "version": 3
   },
   "file_extension": ".py",
   "mimetype": "text/x-python",
   "name": "python",
   "nbconvert_exporter": "python",
   "pygments_lexer": "ipython3",
   "version": "3.11.0"
  },
  "toc": {
   "base_numbering": 1,
   "nav_menu": {},
   "number_sections": true,
   "sideBar": true,
   "skip_h1_title": false,
   "title_cell": "Table of Contents",
   "title_sidebar": "Contents",
   "toc_cell": false,
   "toc_position": {
    "height": "calc(100% - 180px)",
    "left": "10px",
    "top": "150px",
    "width": "288.438px"
   },
   "toc_section_display": true,
   "toc_window_display": true
  },
  "varInspector": {
   "cols": {
    "lenName": 16,
    "lenType": 16,
    "lenVar": 40
   },
   "kernels_config": {
    "python": {
     "delete_cmd_postfix": "",
     "delete_cmd_prefix": "del ",
     "library": "var_list.py",
     "varRefreshCmd": "print(var_dic_list())"
    },
    "r": {
     "delete_cmd_postfix": ") ",
     "delete_cmd_prefix": "rm(",
     "library": "var_list.r",
     "varRefreshCmd": "cat(var_dic_list()) "
    }
   },
   "types_to_exclude": [
    "module",
    "function",
    "builtin_function_or_method",
    "instance",
    "_Feature"
   ],
   "window_display": false
  }
 },
 "nbformat": 4,
 "nbformat_minor": 5
}
